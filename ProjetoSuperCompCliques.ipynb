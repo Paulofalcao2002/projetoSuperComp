{
  "nbformat": 4,
  "nbformat_minor": 0,
  "metadata": {
    "colab": {
      "provenance": []
    },
    "kernelspec": {
      "name": "python3",
      "display_name": "Python 3"
    },
    "language_info": {
      "name": "python"
    }
  },
  "cells": [
    {
      "cell_type": "markdown",
      "source": [
        "# Encontrar cliques máximas em um grafo\n",
        "--------\n",
        "\n",
        "## Projeto Super computação\n",
        "\n",
        "##### Aluno: Paulo Henrique Moreira Falcão"
      ],
      "metadata": {
        "id": "F2Twyk119m5B"
      }
    },
    {
      "cell_type": "markdown",
      "source": [
        "### Introdução\n",
        "\n",
        "Esse notebook consiste no compilado de todo o projeto de supercomputação desenvolvido durante o semestre. Aqui se encontram os códigos fontes, explicações e resultados obtidos no projeto. O repositório em que o projeto foi desenvolvido está disponível [nesse repositório](https://github.com/Paulofalcao2002/projetoSuperComp) no Github.\n",
        "\n",
        "### Encontrar a clique máxima em um grafo\n",
        "\n",
        "![Exemplo Clique](https://upload.wikimedia.org/wikipedia/commons/thumb/d/d0/VR_complex.svg/1200px-VR_complex.svg.png)\n",
        "\n",
        "A problemática que motivou o projeto foi a de resolver um problema da classe dos **NP hard**, encontrar a clique máxima em grafo. Uma clique é um subconjunto de vértices de um grafo, onde todos os vértices pertencentes a clique estão conectados entre si. solução mais ingênua para esse problema envolve testar todas as combinações possíveis de vértices em busca de uma clique máxima.\n",
        "\n",
        "Por ser um problema combinatório, encontrar a clique máxima para um grafo com um total de vértices de 50, por exemplo, demora um tempo considerável dependendo da forma como o algoritmo foi implementado. Em busca de acelerar essa computação, serão feitas implementações paralelas e de computação distribuída, buscando diminuir o tempo em que a parte paralelizável do código executa.\n",
        "\n",
        "Por fim, foram implementadas duas abordagens heurísticas que procuram encontrar soluções \"razoáveis\" e não necessariamente a solução ótima, em favor de um tempo de execução menor.\n",
        "\n",
        "\n"
      ],
      "metadata": {
        "id": "_Ws6ljBu-RQh"
      }
    },
    {
      "cell_type": "markdown",
      "source": [
        "## Implementações sequenciais\n",
        "\n",
        "-------------\n",
        "\n",
        "### Primeira implementação\n",
        "\n",
        "A implementação mais simples, seria testar todas as possibilidades para achar a maior clique que existe:"
      ],
      "metadata": {
        "id": "wOFNJAFFA8NB"
      }
    },
    {
      "cell_type": "code",
      "source": [
        "%%writefile forca-bruta-ingenua.cpp\n",
        "\n",
        "#include <algorithm>\n",
        "#include <fstream>\n",
        "#include <iostream>\n",
        "#include <vector>\n",
        "#include <chrono>\n",
        "using namespace std;\n",
        "using namespace chrono;\n",
        "\n",
        "// Função para ler o grafo a partir do arquivo de entrada\n",
        "vector<vector<int>> lerGrafo(const string &nomeArquivo, int &numVertices) {\n",
        "  ifstream arquivo(nomeArquivo);\n",
        "  int numArestas;\n",
        "  arquivo >> numVertices >> numArestas;\n",
        "\n",
        "  vector<vector<int>> grafo(numVertices, vector<int>(numVertices, 0));\n",
        "\n",
        "  for (int i = 0; i < numArestas; ++i) {\n",
        "    int u, v;\n",
        "    arquivo >> u >> v;\n",
        "    grafo[u - 1][v - 1] = 1;\n",
        "    grafo[v - 1][u - 1] = 1; // O grafo é não direcionado\n",
        "  }\n",
        "\n",
        "  arquivo.close();\n",
        "\n",
        "  return grafo;\n",
        "}\n",
        "\n",
        "// Função para verificar se um conjunto de vértices forma uma clique\n",
        "bool formaClique(const vector<vector<int>> &grafo,\n",
        "                 const vector<int> &vertices) {\n",
        "  for (int i = 0; i < (int)vertices.size(); ++i) {\n",
        "    for (int j = i + 1; j < (int)vertices.size(); ++j) {\n",
        "      if (grafo[vertices[i]][vertices[j]] == 0) {\n",
        "        return false;\n",
        "      }\n",
        "    }\n",
        "  }\n",
        "  return true;\n",
        "}\n",
        "\n",
        "// Função recursiva para encontrar a clique máxima\n",
        "void encontrarCliqueMaximaRec(const vector<vector<int>> &grafo,\n",
        "                              vector<int> &cliqueAtual,\n",
        "                              vector<int> &melhorClique, int verticeAtual) {\n",
        "  if (verticeAtual == (int)grafo.size()) {\n",
        "    if (cliqueAtual.size() > melhorClique.size() &&\n",
        "        formaClique(grafo, cliqueAtual)) {\n",
        "      melhorClique = cliqueAtual;\n",
        "    }\n",
        "    return;\n",
        "  }\n",
        "\n",
        "  // Tente incluir o vértice atual na clique\n",
        "  cliqueAtual.push_back(verticeAtual);\n",
        "  encontrarCliqueMaximaRec(grafo, cliqueAtual, melhorClique, verticeAtual + 1);\n",
        "  cliqueAtual.pop_back(); // Desfaça a inclusão\n",
        "\n",
        "  // Tente não incluir o vértice atual na clique\n",
        "  encontrarCliqueMaximaRec(grafo, cliqueAtual, melhorClique, verticeAtual + 1);\n",
        "}\n",
        "\n",
        "// Função principal para encontrar a clique máxima\n",
        "vector<int> encontrarCliqueMaxima(const vector<vector<int>> &grafo) {\n",
        "  vector<int> cliqueAtual;\n",
        "  vector<int> melhorClique;\n",
        "\n",
        "  encontrarCliqueMaximaRec(grafo, cliqueAtual, melhorClique, 0);\n",
        "\n",
        "  return melhorClique;\n",
        "}\n",
        "\n",
        "int main() {\n",
        "  int numVertices;\n",
        "  vector<vector<int>> grafo = lerGrafo(\"grafo.txt\", numVertices);\n",
        "\n",
        "  auto start = high_resolution_clock::now();\n",
        "\n",
        "  vector<int> cliqueMaxima = encontrarCliqueMaxima(grafo);\n",
        "\n",
        "  auto stop = high_resolution_clock::now();\n",
        "  auto duration = duration_cast<milliseconds>(stop - start);\n",
        "\n",
        "  cout << \"Execution time: \" << duration.count() << \" milliseconds\" << endl;\n",
        "\n",
        "  cout << \"Clique máxima: \";\n",
        "  for (auto vertice : cliqueMaxima) {\n",
        "    cout << vertice + 1 << \" \";\n",
        "  }\n",
        "  cout << endl;\n",
        "  cout << \"Tamanho clique máxima: \" << cliqueMaxima.size() << endl;\n",
        "\n",
        "  return 0;\n",
        "}"
      ],
      "metadata": {
        "colab": {
          "base_uri": "https://localhost:8080/"
        },
        "id": "3lZdIXdLCmng",
        "outputId": "43970b61-fb47-45f5-be6b-1cfe5ddd9846"
      },
      "execution_count": 78,
      "outputs": [
        {
          "output_type": "stream",
          "name": "stdout",
          "text": [
            "Writing forca-bruta-ingenua.cpp\n"
          ]
        }
      ]
    },
    {
      "cell_type": "markdown",
      "source": [
        "Para testar esse código, existe o seguinte código python que gera um grafo e busca por uma clique máxima nele:"
      ],
      "metadata": {
        "id": "607emQubDw9P"
      }
    },
    {
      "cell_type": "code",
      "source": [
        "import networkx as nx\n",
        "import random\n",
        "\n",
        "def gera_grafo(num_vertices):\n",
        "\n",
        "    # Parâmetros\n",
        "    probabilidade_conexao = 0.7  # Probabilidade de haver uma aresta entre dois vértices (ajuste conforme necessário)\n",
        "\n",
        "    # Crie um grafo aleatório densamente conectado\n",
        "    grafo = nx.fast_gnp_random_graph(num_vertices, probabilidade_conexao)\n",
        "\n",
        "    # Nome do arquivo de saída\n",
        "    nome_arquivo = \"grafo.txt\"\n",
        "\n",
        "    # Abra o arquivo para escrita\n",
        "    with open(nome_arquivo, \"w\") as arquivo:\n",
        "        # Escreva a quantidade de vértices e número de arestas na primeira linha\n",
        "        arquivo.write(f\"{num_vertices} {grafo.number_of_edges()}\\n\")\n",
        "\n",
        "        # Escreva as arestas no formato de lista de adjacência\n",
        "        for aresta in grafo.edges():\n",
        "            arquivo.write(\n",
        "                f\"{aresta[0]+1} {aresta[1]+1}\\n\"\n",
        "            )  # +1 para ajustar os índices (começando em 1)\n",
        "\n",
        "    print(f\"Grafo densamente conectado gerado e salvo em '{nome_arquivo}'.\")\n",
        "\n",
        "\n",
        "def acha_clique_maxima():\n",
        "    # Nome do arquivo de entrada\n",
        "    nome_arquivo = \"grafo.txt\"\n",
        "\n",
        "    # Abrir o arquivo e pular a primeira linha\n",
        "    with open(nome_arquivo, 'r') as arquivo:\n",
        "        next(arquivo)  # Pula a primeira linha\n",
        "\n",
        "        # Lê o grafo a partir das linhas restantes\n",
        "        G = nx.parse_adjlist(arquivo)\n",
        "\n",
        "    # Encontrar todas as cliques maximais\n",
        "    cliques_maximais = list(nx.find_cliques(G))\n",
        "\n",
        "    # Encontrar a clique máxima (a maior)\n",
        "    clique_maxima = max(cliques_maximais, key=len)\n",
        "\n",
        "    print(\"Clique máxima encontrada:\", sorted(clique_maxima, reverse=True, key=lambda x: int(x)))\n",
        "    print(\"Tamanho\", len(clique_maxima))"
      ],
      "metadata": {
        "id": "w8i6LESQDwTU"
      },
      "execution_count": 79,
      "outputs": []
    },
    {
      "cell_type": "code",
      "source": [
        "gera_grafo(30)\n",
        "acha_clique_maxima()"
      ],
      "metadata": {
        "colab": {
          "base_uri": "https://localhost:8080/"
        },
        "id": "hpAps9vcERBt",
        "outputId": "981e6a1c-a118-4b45-810e-3989e7dcf911"
      },
      "execution_count": 80,
      "outputs": [
        {
          "output_type": "stream",
          "name": "stdout",
          "text": [
            "Grafo densamente conectado gerado e salvo em 'grafo.txt'.\n",
            "Clique máxima encontrada: ['25', '18', '15', '12', '9', '8', '6', '4', '2']\n",
            "Tamanho 9\n"
          ]
        }
      ]
    },
    {
      "cell_type": "code",
      "source": [
        "%%shell\n",
        "g++ -Wall -O3 -o forca-bruta-ingenua forca-bruta-ingenua.cpp\n",
        "./forca-bruta-ingenua"
      ],
      "metadata": {
        "colab": {
          "base_uri": "https://localhost:8080/"
        },
        "id": "clgnoFb_EVvt",
        "outputId": "79e6eda2-7842-4cf3-9a6f-acbab4216ffd"
      },
      "execution_count": 81,
      "outputs": [
        {
          "output_type": "stream",
          "name": "stdout",
          "text": [
            "Execution time: 9945 milliseconds\n",
            "Clique máxima: 2 4 6 8 9 12 15 18 24 \n",
            "Tamanho clique máxima: 9\n"
          ]
        },
        {
          "output_type": "execute_result",
          "data": {
            "text/plain": []
          },
          "metadata": {},
          "execution_count": 81
        }
      ]
    },
    {
      "cell_type": "markdown",
      "source": [
        "### Segunda implementação\n",
        "\n",
        "\n",
        "Pelo fato da implementação acima testar todos os vértices sem critério nenhum, para grafos maiores sua execução é muito lenta. Dessa forma, a próxima implementação, utiliza uma lista de **candidatos**. Assim, apenas vamos criar cliques que realmente formam cliques, em busca da clique máxima."
      ],
      "metadata": {
        "id": "f0yRN7jPFEEL"
      }
    },
    {
      "cell_type": "code",
      "source": [
        "%%writefile forca-bruta-recursiva.cpp\n",
        "#include <algorithm>\n",
        "#include <chrono>\n",
        "#include <fstream>\n",
        "#include <iostream>\n",
        "#include <vector>\n",
        "using namespace std;\n",
        "using namespace chrono;\n",
        "\n",
        "// Função para ler o grafo a partir do arquivo de entrada\n",
        "vector<vector<int>> lerGrafo(const string &nomeArquivo, int &numVertices) {\n",
        "  ifstream arquivo(nomeArquivo);\n",
        "  int numArestas;\n",
        "  arquivo >> numVertices >> numArestas;\n",
        "\n",
        "  vector<vector<int>> grafo(numVertices, vector<int>(numVertices, 0));\n",
        "\n",
        "  for (int i = 0; i < numArestas; ++i) {\n",
        "    int u, v;\n",
        "    arquivo >> u >> v;\n",
        "    grafo[u - 1][v - 1] = 1;\n",
        "    grafo[v - 1][u - 1] = 1; // O grafo é não direcionado\n",
        "  }\n",
        "\n",
        "  arquivo.close();\n",
        "\n",
        "  return grafo;\n",
        "}\n",
        "\n",
        "// Função recursiva para encontrar a clique máxima\n",
        "vector<int> encontrarCliqueMaximaRec(const vector<vector<int>> &grafo,\n",
        "                                     int verticeAtual,\n",
        "                                     vector<int> &candidatos) {\n",
        "\n",
        "  // Define uma clique máxima para o candidato, que inicialmente tem o valor do candidato\n",
        "  vector<int> cliqueMaximaCandidato;\n",
        "  cliqueMaximaCandidato.push_back(verticeAtual);\n",
        "\n",
        "  // Define um vetor de novos candidatos\n",
        "  vector<int> novosCandidatos;\n",
        "\n",
        "  // Busca novos candidatos que são adjacentes a todos os membros\n",
        "  // da clique do candidato\n",
        "  for (auto u : candidatos) {\n",
        "    bool adjacenteATodos = true;\n",
        "\n",
        "    for (auto c : cliqueMaximaCandidato) {\n",
        "      if (grafo[u][c] == 0) {\n",
        "        adjacenteATodos = false;\n",
        "        break;\n",
        "      }\n",
        "    }\n",
        "\n",
        "    if (adjacenteATodos) {\n",
        "      novosCandidatos.push_back(u);\n",
        "    }\n",
        "  }\n",
        "\n",
        "  // Para cada candidato que partem de do vértice atual\n",
        "  for (auto novoCandidato : novosCandidatos) {\n",
        "    // Chama recursivamente a função. O retorno da chamada é a maior clique para aquele novo candidato\n",
        "    vector<int> cliqueNovoCandidato =\n",
        "        encontrarCliqueMaximaRec(grafo, novoCandidato, novosCandidatos);\n",
        "\n",
        "    // Verifica se o vértice atual está na clique do novo candidato\n",
        "    bool podeAdicionar = true;\n",
        "    for (auto u : cliqueNovoCandidato) {\n",
        "      // Se não está ligado a alguém da clique máxima\n",
        "      // não pode adicionar\n",
        "      if (grafo[u][verticeAtual] == 0) {\n",
        "        podeAdicionar = false;\n",
        "        break;\n",
        "      }\n",
        "    }\n",
        "\n",
        "    // Se podemos adicionar o vértice atual, e essa clique é maior do que a maior clique que contém o\n",
        "    // vértice atual, atualizamos o valor clique máxima do vértice atual\n",
        "    if (podeAdicionar &&\n",
        "        cliqueNovoCandidato.size() + 1 > cliqueMaximaCandidato.size()) {\n",
        "      cliqueNovoCandidato.push_back(verticeAtual);\n",
        "      cliqueMaximaCandidato = cliqueNovoCandidato;\n",
        "    }\n",
        "  }\n",
        "\n",
        "  // Retorna a maior clique para aquele candidato\n",
        "  return cliqueMaximaCandidato;\n",
        "}\n",
        "\n",
        "// Função principal para encontrar a clique máxima\n",
        "vector<int> encontrarCliqueMaxima(const vector<vector<int>> &grafo,\n",
        "                                  int numVertices) {\n",
        "  // Inicializa vetor pra clique atual, maior clique e primeiro vetor de candidatos\n",
        "  vector<int> cliqueAtual;\n",
        "  vector<int> melhorClique;\n",
        "  vector<int> candidatos;\n",
        "\n",
        "  // Preenche o primeiro vetor de candidatos, inicialmente todos os vértices são candidatos\n",
        "  for (int i = 0; i < numVertices; i++) {\n",
        "    candidatos.push_back(i);\n",
        "  }\n",
        "\n",
        "  // Acha a maior clique para cada candidato, e se for maior do que a maior clique,\n",
        "  // atualiza o valor da maior clique\n",
        "  for (auto candidato : candidatos) {\n",
        "    cliqueAtual = encontrarCliqueMaximaRec(grafo, candidato, candidatos);\n",
        "    if (cliqueAtual.size() > melhorClique.size()) {\n",
        "      melhorClique = cliqueAtual;\n",
        "    }\n",
        "  }\n",
        "\n",
        "  // Retorna a maior clique\n",
        "  return melhorClique;\n",
        "}\n",
        "\n",
        "int main() {\n",
        "  // Lê grafo\n",
        "  int numVertices;\n",
        "  vector<vector<int>> grafo = lerGrafo(\"grafo.txt\", numVertices);\n",
        "\n",
        "  // Mede tempo inicial\n",
        "  auto start = high_resolution_clock::now();\n",
        "\n",
        "  // Executa a função de achar maior clique\n",
        "  vector<int> cliqueMaxima = encontrarCliqueMaxima(grafo, numVertices);\n",
        "\n",
        "  // Retém o tempo final\n",
        "  auto stop = high_resolution_clock::now();\n",
        "  auto duration = duration_cast<milliseconds>(stop - start);\n",
        "\n",
        "  // Mostra o tempo final\n",
        "  cout << \"Execution time: \" << duration.count() << \" milliseconds\" << endl;\n",
        "\n",
        "  // Mostra qual é a clique máxima encontrada\n",
        "  cout << \"Clique máxima: \";\n",
        "  for (auto vertice : cliqueMaxima) {\n",
        "    cout << vertice + 1 << \" \";\n",
        "  }\n",
        "  cout << endl;\n",
        "  cout << \"Tamanho clique máxima: \" << cliqueMaxima.size() << endl;\n",
        "\n",
        "  return 0;\n",
        "}\n"
      ],
      "metadata": {
        "colab": {
          "base_uri": "https://localhost:8080/"
        },
        "id": "bunHGe4-F_kW",
        "outputId": "b6eb2cd3-099e-4d93-b456-6e05936847a3"
      },
      "execution_count": 82,
      "outputs": [
        {
          "output_type": "stream",
          "name": "stdout",
          "text": [
            "Writing forca-bruta-recursiva.cpp\n"
          ]
        }
      ]
    },
    {
      "cell_type": "code",
      "source": [
        "%%shell\n",
        "g++ -Wall -O3 -o forca-bruta-recursiva forca-bruta-recursiva.cpp\n",
        "./forca-bruta-recursiva"
      ],
      "metadata": {
        "colab": {
          "base_uri": "https://localhost:8080/"
        },
        "id": "hXIHwyYVJhGp",
        "outputId": "825bff2a-a61d-4035-db12-638559795778"
      },
      "execution_count": 83,
      "outputs": [
        {
          "output_type": "stream",
          "name": "stdout",
          "text": [
            "Execution time: 479 milliseconds\n",
            "Clique máxima: 24 18 15 12 9 8 6 4 2 \n",
            "Tamanho clique máxima: 9\n"
          ]
        },
        {
          "output_type": "execute_result",
          "data": {
            "text/plain": []
          },
          "metadata": {},
          "execution_count": 83
        }
      ]
    },
    {
      "cell_type": "markdown",
      "source": [
        "Muito mais rápido do que a primeira implementação!"
      ],
      "metadata": {
        "id": "Mr7iHw8oKWpO"
      }
    },
    {
      "cell_type": "markdown",
      "source": [
        "### Terceira implementação\n",
        "\n",
        "\n",
        "A implementação acima ainda pode ser melhorada, através do uso de **memoização**. Acontece que muitos dos cálculos da chamada recursiva podem ser repetidos, o que faz com que o algoritmo perca tempo refazendo as mesmas cliques. Para lidar com isso, podemos salvar resultados intermediários em um mapa, e na chamada recursiva verificar se aquela clique já foi calculada."
      ],
      "metadata": {
        "id": "Xoz8S3XOKeY6"
      }
    },
    {
      "cell_type": "code",
      "source": [
        "%%writefile forca-bruta-memoizado.cpp\n",
        "#include <algorithm>\n",
        "#include <chrono>\n",
        "#include <fstream>\n",
        "#include <iostream>\n",
        "#include <vector>\n",
        "using namespace std;\n",
        "using namespace chrono;\n",
        "\n",
        "// Função para ler o grafo a partir do arquivo de entrada\n",
        "vector<vector<int>> lerGrafo(const string &nomeArquivo, int &numVertices) {\n",
        "  ifstream arquivo(nomeArquivo);\n",
        "  int numArestas;\n",
        "  arquivo >> numVertices >> numArestas;\n",
        "\n",
        "  vector<vector<int>> grafo(numVertices, vector<int>(numVertices, 0));\n",
        "\n",
        "  for (int i = 0; i < numArestas; ++i) {\n",
        "    int u, v;\n",
        "    arquivo >> u >> v;\n",
        "    grafo[u - 1][v - 1] = 1;\n",
        "    grafo[v - 1][u - 1] = 1; // O grafo é não direcionado\n",
        "  }\n",
        "\n",
        "  arquivo.close();\n",
        "\n",
        "  return grafo;\n",
        "}\n",
        "\n",
        "// Função recursiva para encontrar a clique máxima\n",
        "vector<int> encontrarCliqueMaximaRec(const vector<vector<int>> &grafo,\n",
        "                                     int verticeAtual, vector<int> &candidatos,\n",
        "                                     unordered_map<string, vector<int>> &memo) {\n",
        "\n",
        "  // Gera uma chave para combinação de candidatos e vértice atual\n",
        "  string key = to_string(verticeAtual);\n",
        "  for (int candidate : candidatos) {\n",
        "    key += \"_\" + to_string(candidate);\n",
        "  }\n",
        "\n",
        "  // Verifica se a chave está no mapa memoizado\n",
        "  if (memo.find(key) != memo.end()) {\n",
        "    return memo[key];\n",
        "  }\n",
        "\n",
        "  // Define uma clique máxima para o candidato, que inicialmente tem o valor do candidato\n",
        "  vector<int> cliqueMaximaCandidato;\n",
        "  cliqueMaximaCandidato.push_back(verticeAtual);\n",
        "\n",
        "  // Define um vetor de novos candidatos\n",
        "  vector<int> novosCandidatos;\n",
        "\n",
        "  // Busca novos candidatos que são adjacentes a todos os membros\n",
        "  // da clique do candidato\n",
        "  for (auto u : candidatos) {\n",
        "    bool adjacenteATodos = true;\n",
        "\n",
        "    for (auto c : cliqueMaximaCandidato) {\n",
        "      if (grafo[u][c] == 0) {\n",
        "        adjacenteATodos = false;\n",
        "        break;\n",
        "      }\n",
        "    }\n",
        "\n",
        "    if (adjacenteATodos) {\n",
        "      novosCandidatos.push_back(u);\n",
        "    }\n",
        "  }\n",
        "\n",
        "  // Para cada candidato que partem de do vértice atual\n",
        "  for (auto novoCandidato : novosCandidatos) {\n",
        "    // Chama recursivamente a função. O retorno da chamada é a maior clique para aquele novo candidato\n",
        "    vector<int> cliqueNovoCandidato =\n",
        "        encontrarCliqueMaximaRec(grafo, novoCandidato, novosCandidatos, memo);\n",
        "\n",
        "    // Verifica se o vértice atual está na clique do novo candidato\n",
        "    bool podeAdicionar = true;\n",
        "    for (auto u : cliqueNovoCandidato) {\n",
        "      // Se não está ligado a alguém da clique máxima\n",
        "      // não pode adicionar\n",
        "      if (grafo[u][verticeAtual] == 0) {\n",
        "        podeAdicionar = false;\n",
        "        break;\n",
        "      }\n",
        "    }\n",
        "\n",
        "    // Se podemos adicionar o vértice atual, e essa clique é maior do que a maior clique que contém o\n",
        "    // vértice atual, atualizamos o valor clique máxima do vértice atual\n",
        "    if (podeAdicionar &&\n",
        "        cliqueNovoCandidato.size() + 1 > cliqueMaximaCandidato.size()) {\n",
        "      cliqueNovoCandidato.push_back(verticeAtual);\n",
        "      cliqueMaximaCandidato = cliqueNovoCandidato;\n",
        "    }\n",
        "  }\n",
        "\n",
        "  // Adiciona a clique calculada na memoização\n",
        "  memo[key] = cliqueMaximaCandidato;\n",
        "\n",
        "  // Retorna a maior clique para aquele candidato\n",
        "  return cliqueMaximaCandidato;\n",
        "}\n",
        "\n",
        "// Função principal para encontrar a clique máxima\n",
        "vector<int> encontrarCliqueMaxima(const vector<vector<int>> &grafo,\n",
        "                                  int numVertices) {\n",
        "  // Inicializa vetor pra clique atual, maior clique e primeiro vetor de candidatos\n",
        "  vector<int> cliqueAtual;\n",
        "  vector<int> melhorClique;\n",
        "  vector<int> candidatos;\n",
        "  unordered_map<string, vector<int>> memo; // Usa um mapa para memoização\n",
        "  memo.clear();\n",
        "\n",
        "  // Preenche o primeiro vetor de candidatos, inicialmente todos os vértices são candidatos\n",
        "  for (int i = 0; i < numVertices; i++) {\n",
        "    candidatos.push_back(i);\n",
        "  }\n",
        "\n",
        "  // Acha a maior clique para cada candidato, e se for maior do que a maior clique,\n",
        "  // atualiza o valor da maior clique\n",
        "  for (auto candidato : candidatos) {\n",
        "    cliqueAtual = encontrarCliqueMaximaRec(grafo, candidato, candidatos, memo);\n",
        "    if (cliqueAtual.size() > melhorClique.size()) {\n",
        "      melhorClique = cliqueAtual;\n",
        "    }\n",
        "  }\n",
        "\n",
        "  return melhorClique;\n",
        "}\n",
        "\n",
        "int main() {\n",
        "  // Lê grafo\n",
        "  int numVertices;\n",
        "  vector<vector<int>> grafo = lerGrafo(\"grafo.txt\", numVertices);\n",
        "\n",
        "  // Mede tempo inicial\n",
        "  auto start = high_resolution_clock::now();\n",
        "\n",
        "  // Executa a função de achar maior clique\n",
        "  vector<int> cliqueMaxima = encontrarCliqueMaxima(grafo, numVertices);\n",
        "\n",
        "  // Retém o tempo final\n",
        "  auto stop = high_resolution_clock::now();\n",
        "  auto duration = duration_cast<milliseconds>(stop - start);\n",
        "\n",
        "  // Mostra o tempo final\n",
        "  cout << \"Execution time: \" << duration.count() << \" milliseconds\" << endl;\n",
        "\n",
        "  // Mostra qual é a clique máxima encontrada\n",
        "  cout << \"Clique máxima: \";\n",
        "  for (auto vertice : cliqueMaxima) {\n",
        "    cout << vertice + 1 << \" \";\n",
        "  }\n",
        "  cout << endl;\n",
        "  cout << \"Tamanho clique máxima: \" << cliqueMaxima.size() << endl;\n",
        "\n",
        "  return 0;\n",
        "}\n"
      ],
      "metadata": {
        "colab": {
          "base_uri": "https://localhost:8080/"
        },
        "id": "dj00_CtzL3kx",
        "outputId": "b7c46d7a-d25f-4ca7-a736-d11417eae5ea"
      },
      "execution_count": 84,
      "outputs": [
        {
          "output_type": "stream",
          "name": "stdout",
          "text": [
            "Writing forca-bruta-memoizado.cpp\n"
          ]
        }
      ]
    },
    {
      "cell_type": "code",
      "source": [
        "%%shell\n",
        "g++ -Wall -O3 -o forca-bruta-memoizado forca-bruta-memoizado.cpp\n",
        "./forca-bruta-memoizado"
      ],
      "metadata": {
        "colab": {
          "base_uri": "https://localhost:8080/"
        },
        "id": "olzG3FrsNRAL",
        "outputId": "a7092fd5-4dc9-47f8-d0aa-7aa6ff3d825c"
      },
      "execution_count": 85,
      "outputs": [
        {
          "output_type": "stream",
          "name": "stdout",
          "text": [
            "Execution time: 61 milliseconds\n",
            "Clique máxima: 24 18 15 12 9 8 6 4 2 \n",
            "Tamanho clique máxima: 9\n"
          ]
        },
        {
          "output_type": "execute_result",
          "data": {
            "text/plain": []
          },
          "metadata": {},
          "execution_count": 85
        }
      ]
    },
    {
      "cell_type": "markdown",
      "source": [
        "### É possível implementar alguma poda? Algum critério que evite calcular um nó, dado que você já descobriu uma clique maior?\n",
        "\n",
        "Seria possível limitarmos de acordo com a quantidade de candidatos + tamanho da clique. Ou seja, se nossa clique atual + tamanho de candidatos a serem analisados é menor do que a clique máxima, essa clique nunca será maior do que a clique máxima, sendo esse um ponto onde podemos podar a busca."
      ],
      "metadata": {
        "id": "zb1c7Ll8Rvq2"
      }
    },
    {
      "cell_type": "markdown",
      "source": [
        "## Implementações paralelas com Open MP\n",
        "------\n",
        "\n",
        "Para adicionar Open MP nas nossas implementações, precisamos analisar o ponto onde são feitas o maior número de de operações no código, sendo esse local onde mais se beneficiaria de paralelização através de threads.\n",
        "\n",
        "Através do uso de ferramentas como profilers, podemos ver que um dos pontos críticos é quando chamamos a função `encontrarCliqueMaximaRec`, no `for` para todos os candidatos. Esse ponto seria ótimo para utilizar threads, já que não existe nenhum tipo de dependência entre as informações do for, e é um local onde ocorrem operações demoradas.\n"
      ],
      "metadata": {
        "id": "Rb5cqK9ENmcA"
      }
    },
    {
      "cell_type": "markdown",
      "source": [
        "### Segunda implementação paralelisada"
      ],
      "metadata": {
        "id": "OP4vqlTBP-cX"
      }
    },
    {
      "cell_type": "code",
      "source": [
        "%%writefile forca-bruta-recursiva-paralela.cpp\n",
        "#include <algorithm>\n",
        "#include <chrono>\n",
        "#include <fstream>\n",
        "#include <iostream>\n",
        "#include <vector>\n",
        "#include <omp.h>\n",
        "using namespace std;\n",
        "using namespace chrono;\n",
        "\n",
        "// Função para ler o grafo a partir do arquivo de entrada\n",
        "vector<vector<int>> lerGrafo(const string &nomeArquivo, int &numVertices) {\n",
        "  ifstream arquivo(nomeArquivo);\n",
        "  int numArestas;\n",
        "  arquivo >> numVertices >> numArestas;\n",
        "\n",
        "  vector<vector<int>> grafo(numVertices, vector<int>(numVertices, 0));\n",
        "\n",
        "  for (int i = 0; i < numArestas; ++i) {\n",
        "    int u, v;\n",
        "    arquivo >> u >> v;\n",
        "    grafo[u - 1][v - 1] = 1;\n",
        "    grafo[v - 1][u - 1] = 1; // O grafo é não direcionado\n",
        "  }\n",
        "\n",
        "  arquivo.close();\n",
        "\n",
        "  return grafo;\n",
        "}\n",
        "\n",
        "// Função recursiva para encontrar a clique máxima\n",
        "vector<int> encontrarCliqueMaximaRec(const vector<vector<int>> &grafo,\n",
        "                                     int verticeAtual,\n",
        "                                     vector<int> &candidatos) {\n",
        "\n",
        " // Define uma clique máxima para o candidato, que inicialmente tem o valor do candidato\n",
        "  vector<int> cliqueMaximaCandidato;\n",
        "  cliqueMaximaCandidato.push_back(verticeAtual);\n",
        "\n",
        "  // Define um vetor de novos candidatos\n",
        "  vector<int> novosCandidatos;\n",
        "\n",
        "  // Busca novos candidatos que são adjacentes a todos os membros\n",
        "  // da clique do candidato\n",
        "  for (auto u : candidatos) {\n",
        "    bool adjacenteATodos = true;\n",
        "\n",
        "    for (auto c : cliqueMaximaCandidato) {\n",
        "      if (grafo[u][c] == 0) {\n",
        "        adjacenteATodos = false;\n",
        "        break;\n",
        "      }\n",
        "    }\n",
        "\n",
        "    if (adjacenteATodos) {\n",
        "      novosCandidatos.push_back(u);\n",
        "    }\n",
        "  }\n",
        "\n",
        "  // Para cada candidato que partem de do vértice atual\n",
        "  for (auto novoCandidato : novosCandidatos) {\n",
        "    // Chama recursivamente a função. O retorno da chamada é a maior clique para aquele novo candidato\n",
        "    vector<int> cliqueNovoCandidato =\n",
        "        encontrarCliqueMaximaRec(grafo, novoCandidato, novosCandidatos);\n",
        "\n",
        "    // Verifica se o vértice atual está na clique do novo candidato\n",
        "    bool podeAdicionar = true;\n",
        "    for (auto u : cliqueNovoCandidato) {\n",
        "      // Se não está ligado a alguém da clique máxima\n",
        "      // não pode adicionar\n",
        "      if (grafo[u][verticeAtual] == 0) {\n",
        "        podeAdicionar = false;\n",
        "        break;\n",
        "      }\n",
        "    }\n",
        "\n",
        "    // Se podemos adicionar o vértice atual, e essa clique é maior do que a maior clique que contém o\n",
        "    // vértice atual, atualizamos o valor clique máxima do vértice atual\n",
        "    if (podeAdicionar &&\n",
        "        cliqueNovoCandidato.size() + 1 > cliqueMaximaCandidato.size()) {\n",
        "      cliqueNovoCandidato.push_back(verticeAtual);\n",
        "      cliqueMaximaCandidato = cliqueNovoCandidato;\n",
        "    }\n",
        "  }\n",
        "\n",
        "  // Retorna a maior clique para aquele candidato\n",
        "  return cliqueMaximaCandidato;\n",
        "}\n",
        "\n",
        "// Função principal para encontrar a clique máxima\n",
        "vector<int> encontrarCliqueMaxima(const vector<vector<int>> &grafo,\n",
        "                                  int numVertices) {\n",
        "  // Inicializa vetor pra clique atual, maior clique e primeiro vetor de candidatos\n",
        "  vector<int> cliqueAtual;\n",
        "  vector<int> melhorClique;\n",
        "  vector<int> candidatos(numVertices);\n",
        "\n",
        "  // Preenche o primeiro vetor de candidatos, inicialmente todos os vértices são candidatos\n",
        "  for (int i = 0; i < numVertices; i++) {\n",
        "    candidatos[i] = i;\n",
        "  }\n",
        "\n",
        "  // Acha a maior clique para cada candidato, e se for maior do que a maior clique,\n",
        "  // atualiza o valor da maior clique\n",
        "  // Usa omp para calcular cliques em threads separadas\n",
        "  #pragma omp parallel for\n",
        "  for (auto candidato : candidatos) {\n",
        "    cliqueAtual = encontrarCliqueMaximaRec(grafo, candidato, candidatos);\n",
        "\n",
        "    if (cliqueAtual.size() > melhorClique.size()) {\n",
        "      melhorClique = cliqueAtual;\n",
        "    }\n",
        "  }\n",
        "\n",
        "  // Retorna a maior clique\n",
        "  return melhorClique;\n",
        "}\n",
        "\n",
        "int main() {\n",
        "  // Lê grafo\n",
        "  int numVertices;\n",
        "  vector<vector<int>> grafo = lerGrafo(\"grafo.txt\", numVertices);\n",
        "\n",
        "  // Executa a função de achar maior clique\n",
        "  auto start = high_resolution_clock::now();\n",
        "\n",
        "  // Executa a função de achar maior clique\n",
        "  vector<int> cliqueMaxima = encontrarCliqueMaxima(grafo, numVertices);\n",
        "\n",
        "  // Retém o tempo final\n",
        "  auto stop = high_resolution_clock::now();\n",
        "  auto duration = duration_cast<milliseconds>(stop - start);\n",
        "\n",
        "  // Mostra o tempo final\n",
        "  cout << \"Execution time: \" << duration.count() << \" milliseconds\" << endl;\n",
        "\n",
        "  // Mostra qual é a clique máxima encontrada\n",
        "  cout << \"Clique máxima: \";\n",
        "  for (auto vertice : cliqueMaxima) {\n",
        "    cout << vertice + 1 << \" \";\n",
        "  }\n",
        "  cout << endl;\n",
        "  cout << \"Tamanho clique máxima: \" << cliqueMaxima.size() << endl;\n",
        "\n",
        "  return 0;\n",
        "}\n"
      ],
      "metadata": {
        "colab": {
          "base_uri": "https://localhost:8080/"
        },
        "id": "-MIXrKqdPHRC",
        "outputId": "18155905-3370-4a0b-cf36-d655941f0fd7"
      },
      "execution_count": 86,
      "outputs": [
        {
          "output_type": "stream",
          "name": "stdout",
          "text": [
            "Writing forca-bruta-recursiva-paralela.cpp\n"
          ]
        }
      ]
    },
    {
      "cell_type": "code",
      "source": [
        "%%shell\n",
        "g++ -Wall -O3 -o forca-bruta-recursiva-paralela forca-bruta-recursiva-paralela.cpp -fopenmp\n",
        "./forca-bruta-recursiva-paralela"
      ],
      "metadata": {
        "colab": {
          "base_uri": "https://localhost:8080/"
        },
        "id": "Vcw9uiR3Shns",
        "outputId": "270f1745-1c8f-4a50-b080-a119f59a0051"
      },
      "execution_count": 87,
      "outputs": [
        {
          "output_type": "stream",
          "name": "stdout",
          "text": [
            "Execution time: 447 milliseconds\n",
            "Clique máxima: 24 18 15 12 9 8 6 4 2 \n",
            "Tamanho clique máxima: 9\n"
          ]
        },
        {
          "output_type": "execute_result",
          "data": {
            "text/plain": []
          },
          "metadata": {},
          "execution_count": 87
        }
      ]
    },
    {
      "cell_type": "markdown",
      "source": [
        "### Terceira implementação paralelisada"
      ],
      "metadata": {
        "id": "36UG_x4hfJwd"
      }
    },
    {
      "cell_type": "code",
      "source": [
        "%%writefile forca-bruta-memoizado-paralela.cpp\n",
        "#include <algorithm>\n",
        "#include <chrono>\n",
        "#include <fstream>\n",
        "#include <iostream>\n",
        "#include <vector>\n",
        "#include <omp.h>\n",
        "using namespace std;\n",
        "using namespace chrono;\n",
        "\n",
        "// Função para ler o grafo a partir do arquivo de entrada\n",
        "vector<vector<int>> lerGrafo(const string &nomeArquivo, int &numVertices) {\n",
        "  ifstream arquivo(nomeArquivo);\n",
        "  int numArestas;\n",
        "  arquivo >> numVertices >> numArestas;\n",
        "\n",
        "  vector<vector<int>> grafo(numVertices, vector<int>(numVertices, 0));\n",
        "\n",
        "  for (int i = 0; i < numArestas; ++i) {\n",
        "    int u, v;\n",
        "    arquivo >> u >> v;\n",
        "    grafo[u - 1][v - 1] = 1;\n",
        "    grafo[v - 1][u - 1] = 1; // O grafo é não direcionado\n",
        "  }\n",
        "\n",
        "  arquivo.close();\n",
        "\n",
        "  return grafo;\n",
        "}\n",
        "\n",
        "// Função recursiva para encontrar a clique máxima\n",
        "vector<int> encontrarCliqueMaximaRec(const vector<vector<int>> &grafo,\n",
        "                                     int verticeAtual, vector<int> &candidatos,\n",
        "                                     unordered_map<string, vector<int>> &memo) {\n",
        "\n",
        "  // Gera uma chave para combinação de candidatos e vértice atual\n",
        "  string key = to_string(verticeAtual);\n",
        "  for (int candidate : candidatos) {\n",
        "    key += \"_\" + to_string(candidate);\n",
        "  }\n",
        "\n",
        "  // Verifica se a chave está no mapa memoizado\n",
        "  bool inMemo = memo.find(key) != memo.end();\n",
        "  vector<int> memoValue;\n",
        "  if (inMemo) {\n",
        "    // Por ser um recurso compartilhado, o mapa é uma zona crítica\n",
        "    #pragma omp critical\n",
        "    {\n",
        "      memoValue = memo[key];\n",
        "    }\n",
        "    return memoValue;\n",
        "  }\n",
        "\n",
        "  // Define uma clique máxima para o candidato, que inicialmente tem o valor do candidato\n",
        "  vector<int> cliqueMaximaCandidato;\n",
        "  cliqueMaximaCandidato.push_back(verticeAtual);\n",
        "\n",
        "  // Define um vetor de novos candidatos\n",
        "  vector<int> novosCandidatos;\n",
        "\n",
        "  // Busca novos candidatos que são adjacentes a todos os membros\n",
        "  // da clique do candidato\n",
        "  for (auto u : candidatos) {\n",
        "    bool adjacenteATodos = true;\n",
        "\n",
        "    for (auto c : cliqueMaximaCandidato) {\n",
        "      if (grafo[u][c] == 0) {\n",
        "        adjacenteATodos = false;\n",
        "        break;\n",
        "      }\n",
        "    }\n",
        "\n",
        "    if (adjacenteATodos) {\n",
        "      novosCandidatos.push_back(u);\n",
        "    }\n",
        "  }\n",
        "\n",
        "  // Para cada candidato que partem de do vértice atual\n",
        "  for (auto novoCandidato : novosCandidatos) {\n",
        "    // Chama recursivamente a função. O retorno da chamada é a maior clique para aquele novo candidato\n",
        "    vector<int> cliqueNovoCandidato =\n",
        "        encontrarCliqueMaximaRec(grafo, novoCandidato, novosCandidatos, memo);\n",
        "\n",
        "    // Verifica se o vértice atual está na clique do novo candidato\n",
        "    bool podeAdicionar = true;\n",
        "    for (auto u : cliqueNovoCandidato) {\n",
        "      // Se não está ligado a alguém da clique máxima\n",
        "      // não pode adicionar\n",
        "      if (grafo[u][verticeAtual] == 0) {\n",
        "        podeAdicionar = false;\n",
        "        break;\n",
        "      }\n",
        "    }\n",
        "\n",
        "    // Se podemos adicionar o vértice atual, e essa clique é maior do que a maior clique que contém o\n",
        "    // vértice atual, atualizamos o valor clique máxima do vértice atual\n",
        "    if (podeAdicionar &&\n",
        "        cliqueNovoCandidato.size() + 1 > cliqueMaximaCandidato.size()) {\n",
        "      cliqueNovoCandidato.push_back(verticeAtual);\n",
        "      cliqueMaximaCandidato = cliqueNovoCandidato;\n",
        "    }\n",
        "  }\n",
        "\n",
        "  // Adiciona a clique calculada na memoização\n",
        "  #pragma omp critical\n",
        "  {\n",
        "    memo[key] = cliqueMaximaCandidato;\n",
        "  }\n",
        "\n",
        "  // Retorna a maior clique para aquele candidato\n",
        "  return cliqueMaximaCandidato;\n",
        "}\n",
        "\n",
        "// Função principal para encontrar a clique máxima\n",
        "vector<int> encontrarCliqueMaxima(const vector<vector<int>> &grafo,\n",
        "                                  int numVertices) {\n",
        "  // Inicializa vetor pra clique atual, maior clique e primeiro vetor de candidatos\n",
        "  vector<int> cliqueAtual;\n",
        "  vector<int> melhorClique;\n",
        "  vector<int> candidatos;\n",
        "  unordered_map<string, vector<int>> memo; // Usa um mapa para memoização\n",
        "  memo.clear();\n",
        "\n",
        "  // Preenche o primeiro vetor de candidatos, inicialmente todos os vértices são candidatos\n",
        "  for (int i = 0; i < numVertices; i++) {\n",
        "    candidatos.push_back(i);\n",
        "  }\n",
        "\n",
        "  // Acha a maior clique para cada candidato, e se for maior do que a maior clique,\n",
        "  // atualiza o valor da maior clique\n",
        "  // Usa omp para calcular cliques em threads separadas\n",
        "  #pragma omp parallel for\n",
        "  for (auto candidato : candidatos) {\n",
        "    cliqueAtual = encontrarCliqueMaximaRec(grafo, candidato, candidatos, memo);\n",
        "\n",
        "    if (cliqueAtual.size() > melhorClique.size()) {\n",
        "      melhorClique = cliqueAtual;\n",
        "    }\n",
        "  }\n",
        "\n",
        "  return melhorClique;\n",
        "}\n",
        "\n",
        "int main() {\n",
        "  // Lê grafo\n",
        "  int numVertices;\n",
        "  vector<vector<int>> grafo = lerGrafo(\"grafo.txt\", numVertices);\n",
        "\n",
        "  // Mede tempo inicial\n",
        "  auto start = high_resolution_clock::now();\n",
        "\n",
        "  // Executa a função de achar maior clique\n",
        "  vector<int> cliqueMaxima = encontrarCliqueMaxima(grafo, numVertices);\n",
        "\n",
        "  // Retém o tempo final\n",
        "  auto stop = high_resolution_clock::now();\n",
        "  auto duration = duration_cast<milliseconds>(stop - start);\n",
        "\n",
        "  // Mostra o tempo final\n",
        "  cout << \"Execution time: \" << duration.count() << \" milliseconds\" << endl;\n",
        "\n",
        "  // Mostra qual é a clique máxima encontrada\n",
        "  cout << \"Clique máxima: \";\n",
        "  for (auto vertice : cliqueMaxima) {\n",
        "    cout << vertice + 1 << \" \";\n",
        "  }\n",
        "  cout << endl;\n",
        "  cout << \"Tamanho clique máxima: \" << cliqueMaxima.size() << endl;\n",
        "\n",
        "  return 0;\n",
        "}\n"
      ],
      "metadata": {
        "colab": {
          "base_uri": "https://localhost:8080/"
        },
        "id": "HCORMsTLSyjy",
        "outputId": "194ec6b6-f4dd-40d1-875a-91c78aed9fab"
      },
      "execution_count": 88,
      "outputs": [
        {
          "output_type": "stream",
          "name": "stdout",
          "text": [
            "Writing forca-bruta-memoizado-paralela.cpp\n"
          ]
        }
      ]
    },
    {
      "cell_type": "code",
      "source": [
        "%%shell\n",
        "g++ -Wall -O3 -o forca-bruta-memoizado-paralela forca-bruta-memoizado-paralela.cpp -fopenmp\n",
        "./forca-bruta-memoizado-paralela"
      ],
      "metadata": {
        "colab": {
          "base_uri": "https://localhost:8080/"
        },
        "id": "5TO565snUJkS",
        "outputId": "8e5bf842-6f6f-4e43-ca88-3d3bf15750f3"
      },
      "execution_count": 89,
      "outputs": [
        {
          "output_type": "stream",
          "name": "stdout",
          "text": [
            "Execution time: 54 milliseconds\n",
            "Clique máxima: 24 18 15 12 9 8 6 4 2 \n",
            "Tamanho clique máxima: 9\n"
          ]
        },
        {
          "output_type": "execute_result",
          "data": {
            "text/plain": []
          },
          "metadata": {},
          "execution_count": 89
        }
      ]
    },
    {
      "cell_type": "markdown",
      "source": [
        "Parece que não houve aumento de tempo de execução, mas calma. As simulações vão mostrar que o aumento existe e é significante. Provavelmente o tamanho do grafo não é suficiente para fazer com que o overhead que o OMP tem seja compensado pela velocidade de cálculos paralelos."
      ],
      "metadata": {
        "id": "5RVu2CmJUQlR"
      }
    },
    {
      "cell_type": "markdown",
      "source": [
        "## Paralelização com MPI\n",
        "\n",
        "----\n",
        "\n",
        "Por fim, podemos paralelizar usando processos MPI. A ideia é que cada processo calcule uma clique máxima para um dado grupo de candidatos inicial. Depois o processo principal (rank 0), irá receber todos as cliques calculadas e dizer por fim qual foi a maior clique de todas."
      ],
      "metadata": {
        "id": "vVB7RL_8UrGm"
      }
    },
    {
      "cell_type": "markdown",
      "source": [
        "### Segunda implementação paralelizada com MPI"
      ],
      "metadata": {
        "id": "hporZCWOfDeC"
      }
    },
    {
      "cell_type": "code",
      "source": [
        "%%writefile forca-bruta-recursivo-distribuida.cpp\n",
        "#include <algorithm>\n",
        "#include <chrono>\n",
        "#include <fstream>\n",
        "#include <iostream>\n",
        "#include <vector>\n",
        "#include <omp.h>\n",
        "#include <mpi.h>\n",
        "using namespace std;\n",
        "using namespace chrono;\n",
        "\n",
        "// Função para ler o grafo a partir do arquivo de entrada\n",
        "vector<vector<int>> lerGrafo(const string &nomeArquivo, int &numVertices) {\n",
        "  ifstream arquivo(nomeArquivo);\n",
        "  int numArestas;\n",
        "  arquivo >> numVertices >> numArestas;\n",
        "\n",
        "  vector<vector<int>> grafo(numVertices, vector<int>(numVertices, 0));\n",
        "\n",
        "  for (int i = 0; i < numArestas; ++i) {\n",
        "    int u, v;\n",
        "    arquivo >> u >> v;\n",
        "    grafo[u - 1][v - 1] = 1;\n",
        "    grafo[v - 1][u - 1] = 1; // O grafo é não direcionado\n",
        "  }\n",
        "\n",
        "  arquivo.close();\n",
        "\n",
        "  return grafo;\n",
        "}\n",
        "\n",
        "// Função recursiva para encontrar a clique máxima começando em um candidato\n",
        "vector<int> encontrarCliqueMaximaRec(const vector<vector<int>> &grafo,\n",
        "                                     int verticeAtual,\n",
        "                                     vector<int> &candidatos) {\n",
        "\n",
        " // Define uma clique máxima para o candidato, que inicialmente tem o valor do candidato\n",
        "  vector<int> cliqueMaximaCandidato;\n",
        "  cliqueMaximaCandidato.push_back(verticeAtual);\n",
        "\n",
        "  // Define um vetor de novos candidatos\n",
        "  vector<int> novosCandidatos;\n",
        "\n",
        "  // Busca novos candidatos que são adjacentes a todos os membros\n",
        "  // da clique do candidato\n",
        "  for (auto u : candidatos) {\n",
        "    bool adjacenteATodos = true;\n",
        "\n",
        "    for (auto c : cliqueMaximaCandidato) {\n",
        "      if (grafo[u][c] == 0) {\n",
        "        adjacenteATodos = false;\n",
        "        break;\n",
        "      }\n",
        "    }\n",
        "\n",
        "    if (adjacenteATodos) {\n",
        "      novosCandidatos.push_back(u);\n",
        "    }\n",
        "  }\n",
        "\n",
        "  // Para cada candidato que partem de do vértice atual\n",
        "  for (auto novoCandidato : novosCandidatos) {\n",
        "    // Chama recursivamente a função. O retorno da chamada é a maior clique para aquele novo candidato\n",
        "    vector<int> cliqueNovoCandidato =\n",
        "        encontrarCliqueMaximaRec(grafo, novoCandidato, novosCandidatos);\n",
        "\n",
        "    // Verifica se o vértice atual está na clique do novo candidato\n",
        "    bool podeAdicionar = true;\n",
        "    for (auto u : cliqueNovoCandidato) {\n",
        "      // Se não está ligado a alguém da clique máxima\n",
        "      // não pode adicionar\n",
        "      if (grafo[u][verticeAtual] == 0) {\n",
        "        podeAdicionar = false;\n",
        "        break;\n",
        "      }\n",
        "    }\n",
        "\n",
        "    // Se podemos adicionar o vértice atual, e essa clique é maior do que a maior clique que contém o\n",
        "    // vértice atual, atualizamos o valor clique máxima do vértice atual\n",
        "    if (podeAdicionar &&\n",
        "        cliqueNovoCandidato.size() + 1 > cliqueMaximaCandidato.size()) {\n",
        "      cliqueNovoCandidato.push_back(verticeAtual);\n",
        "      cliqueMaximaCandidato = cliqueNovoCandidato;\n",
        "    }\n",
        "  }\n",
        "\n",
        " // Retorna a maior clique para aquele candidato\n",
        "  return cliqueMaximaCandidato;\n",
        "}\n",
        "\n",
        "// Função principal para encontrar a clique máxima\n",
        "vector<int> encontrarCliqueMaxima(const vector<vector<int>> &grafo,\n",
        "                                  int numVertices, int iStart, int iEnd) {\n",
        "  // Inicializa vetor pra clique atual, maior clique e primeiro vetor de candidatos\n",
        "  vector<int> cliqueAtual;\n",
        "  vector<int> melhorClique;\n",
        "  vector<int> candidatos(numVertices);\n",
        "\n",
        "  // Preenche o primeiro vetor de candidatos, inicialmente todos os vértices são candidatos\n",
        "  for (int i = 0; i < numVertices; i++) {\n",
        "    candidatos[i] = i;\n",
        "  }\n",
        "\n",
        "  // Acha a maior clique para cada candidato, e se for maior do que a maior clique,\n",
        "  // atualiza o valor da maior clique\n",
        "  // Usa omp para calcular cliques em threads separadas\n",
        "  // Calcula apenas para os candidatos que o processo é responsável\n",
        "  #pragma omp parallel for\n",
        "  for (int i = iStart; i < iEnd; i++) {\n",
        "    int candidato = candidatos[i];\n",
        "    cliqueAtual = encontrarCliqueMaximaRec(grafo, candidato, candidatos);\n",
        "\n",
        "    if (cliqueAtual.size() > melhorClique.size()) {\n",
        "      melhorClique = cliqueAtual;\n",
        "    }\n",
        "  }\n",
        "\n",
        "  // Retorna a maior clique\n",
        "  return melhorClique;\n",
        "}\n",
        "\n",
        "int main() {\n",
        "  // Inicializa MPI\n",
        "  MPI_Init(NULL, NULL);\n",
        "  int rank, size;\n",
        "\n",
        "  // Recupera rank do processo e tamanho da topologia\n",
        "  MPI_Comm_rank(MPI_COMM_WORLD, &rank);\n",
        "  MPI_Comm_size(MPI_COMM_WORLD, &size);\n",
        "\n",
        "  // Inicializa variáveis para grafo e tamanho de vértices\n",
        "  vector<vector<int>> grafo;\n",
        "  int numVertices = 0;\n",
        "\n",
        "  // Processo zero executa o código de ler o grafo\n",
        "  if (rank == 0) {\n",
        "    grafo = lerGrafo(\"grafo.txt\", numVertices);\n",
        "  }\n",
        "\n",
        "  // Processo zero faz broadcast do número de vértices\n",
        "  MPI_Bcast(&numVertices, 1, MPI_INT, 0, MPI_COMM_WORLD);\n",
        "\n",
        "  // Outros processos que não o zero redimensionam o grafo de acordo com o\n",
        "  // número de vértices\n",
        "  if (rank != 0) {\n",
        "    grafo.resize(numVertices, vector<int>(numVertices));\n",
        "  }\n",
        "\n",
        "  // Processos criam um array 1D para receber o grafo,\n",
        "  // Processo zero cria o array 1D a partir do grafo\n",
        "  vector<int> flattened;\n",
        "  flattened.reserve(numVertices * numVertices);\n",
        "  for (const auto &row : grafo) {\n",
        "    flattened.insert(flattened.end(), row.begin(), row.end());\n",
        "  }\n",
        "\n",
        "  // Processo zero faz o broadcast do grafo 1D\n",
        "  MPI_Bcast(flattened.data(), numVertices * numVertices, MPI_INT, 0, MPI_COMM_WORLD);\n",
        "\n",
        "  // Outros processos que não o zero, preenchem o grafo 2D\n",
        "  if (rank != 0) {\n",
        "    grafo.clear();\n",
        "    for (int i = 0; i < numVertices; ++i) {\n",
        "      grafo.emplace_back(flattened.begin() + i * numVertices, flattened.begin() + (i + 1) * numVertices);\n",
        "    }\n",
        "  }\n",
        "\n",
        "  // Pega tempo inicial\n",
        "  auto start = high_resolution_clock::now();\n",
        "\n",
        "  // Calcula os índices de candidatos que cada processo irá calcular\n",
        "  int procCandidatosParaVerificar = numVertices / size;\n",
        "  int iStart = rank * procCandidatosParaVerificar;\n",
        "  int iEnd = iStart + procCandidatosParaVerificar;\n",
        "\n",
        "  // Executa a função de achar maior clique\n",
        "  vector<int> cliqueMaxima = encontrarCliqueMaxima(grafo, numVertices, iStart, iEnd);\n",
        "\n",
        "  if (rank == 0) {\n",
        "      // Processo principal recebe as maiores cliques que os outros processos calcularam\n",
        "      // e obtém o valor da maior\n",
        "      for (int i = 1; i < size; i++) {\n",
        "        int tamanhoCliqueMaximaProc;\n",
        "        MPI_Recv(&tamanhoCliqueMaximaProc, 1, MPI_INT, i, 1, MPI_COMM_WORLD, MPI_STATUS_IGNORE);\n",
        "\n",
        "        vector<int> cliqueMaximaProc(tamanhoCliqueMaximaProc);\n",
        "        MPI_Recv(cliqueMaximaProc.data(), tamanhoCliqueMaximaProc, MPI_INT, i, 2, MPI_COMM_WORLD, MPI_STATUS_IGNORE);\n",
        "\n",
        "        if (tamanhoCliqueMaximaProc > (int) cliqueMaxima.size()) {\n",
        "          cliqueMaxima = cliqueMaximaProc;\n",
        "        }\n",
        "      }\n",
        "\n",
        "    } else {\n",
        "      // Outros processos mandam para o processo principal a maior clique que foi\n",
        "      // calculada\n",
        "      int tamanhoCliqueMaximaProc = cliqueMaxima.size();\n",
        "      MPI_Send(&tamanhoCliqueMaximaProc, 1, MPI_INT, 0, 1, MPI_COMM_WORLD);\n",
        "      MPI_Send(cliqueMaxima.data(), tamanhoCliqueMaximaProc, MPI_INT, 0, 2, MPI_COMM_WORLD);\n",
        "    }\n",
        "\n",
        "  // Processo principal mostra resultados\n",
        "  if (rank == 0) {\n",
        "    // Obtém o tempo final\n",
        "    auto stop = high_resolution_clock::now();\n",
        "    auto duration = duration_cast<milliseconds>(stop - start);\n",
        "\n",
        "    // Mostra o tempo final\n",
        "    cout << \"Execution time: \" << duration.count() << \" milliseconds\" << endl;\n",
        "\n",
        "    // Mostra qual é a clique máxima encontrada\n",
        "    cout << \"Clique máxima: \";\n",
        "    for (auto vertice : cliqueMaxima) {\n",
        "      cout << vertice + 1 << \" \";\n",
        "    }\n",
        "    cout << endl;\n",
        "    cout << \"Tamanho clique máxima: \" << cliqueMaxima.size() << endl;\n",
        "  }\n",
        "\n",
        "  // Finaliza MPI\n",
        "  MPI_Finalize();\n",
        "\n",
        "  return 0;\n",
        "}\n"
      ],
      "metadata": {
        "colab": {
          "base_uri": "https://localhost:8080/"
        },
        "id": "sKHNzgEofRAu",
        "outputId": "775859d9-5f01-4329-f2b3-3af5ebf44461"
      },
      "execution_count": 90,
      "outputs": [
        {
          "output_type": "stream",
          "name": "stdout",
          "text": [
            "Writing forca-bruta-recursivo-distribuida.cpp\n"
          ]
        }
      ]
    },
    {
      "cell_type": "code",
      "source": [
        "%%shell\n",
        "mpic++ -Wall -O3 -fopenmp -o forca-bruta-recursivo-distribuida forca-bruta-recursivo-distribuida.cpp\n",
        "mpirun --allow-run-as-root -np 1 ./forca-bruta-recursivo-distribuida # Aparentemente não é possível roda com np > 1 no colab :("
      ],
      "metadata": {
        "colab": {
          "base_uri": "https://localhost:8080/"
        },
        "id": "VhNOVcCKi5wz",
        "outputId": "200dfd44-53f8-4147-c399-e12ff8f3e672"
      },
      "execution_count": 91,
      "outputs": [
        {
          "output_type": "stream",
          "name": "stdout",
          "text": [
            "Execution time: 448 milliseconds\n",
            "Clique máxima: 24 18 15 12 9 8 6 4 2 \n",
            "Tamanho clique máxima: 9\n"
          ]
        },
        {
          "output_type": "execute_result",
          "data": {
            "text/plain": []
          },
          "metadata": {},
          "execution_count": 91
        }
      ]
    },
    {
      "cell_type": "markdown",
      "source": [
        "### Terceira implementação paralelizada com MPI"
      ],
      "metadata": {
        "id": "KHX1_v6xjd8j"
      }
    },
    {
      "cell_type": "code",
      "source": [
        "%%writefile forca-bruta-memoizado-distribuida.cpp\n",
        "#include <algorithm>\n",
        "#include <chrono>\n",
        "#include <fstream>\n",
        "#include <iostream>\n",
        "#include <vector>\n",
        "#include <omp.h>\n",
        "#include <mpi.h>\n",
        "using namespace std;\n",
        "using namespace chrono;\n",
        "\n",
        "// Função para ler o grafo a partir do arquivo de entrada\n",
        "vector<vector<int>> lerGrafo(const string &nomeArquivo, int &numVertices) {\n",
        "  ifstream arquivo(nomeArquivo);\n",
        "  int numArestas;\n",
        "  arquivo >> numVertices >> numArestas;\n",
        "\n",
        "  vector<vector<int>> grafo(numVertices, vector<int>(numVertices, 0));\n",
        "\n",
        "  for (int i = 0; i < numArestas; ++i) {\n",
        "    int u, v;\n",
        "    arquivo >> u >> v;\n",
        "    grafo[u - 1][v - 1] = 1;\n",
        "    grafo[v - 1][u - 1] = 1; // O grafo é não direcionado\n",
        "  }\n",
        "\n",
        "  arquivo.close();\n",
        "\n",
        "  return grafo;\n",
        "}\n",
        "\n",
        "// Função recursiva para encontrar a clique máxima\n",
        "vector<int> encontrarCliqueMaximaRec(const vector<vector<int>> &grafo,\n",
        "                                     int verticeAtual, vector<int> &candidatos,\n",
        "                                     unordered_map<string, vector<int>> &memo) {\n",
        "\n",
        "  // Generate a unique key for this combination of verticeAtual and candidatos\n",
        "  string key = to_string(verticeAtual);\n",
        "  for (int candidate : candidatos) {\n",
        "    key += \"_\" + to_string(candidate);\n",
        "  }\n",
        "\n",
        "  // Check if the result is memoized\n",
        "  bool inMemo = memo.find(key) != memo.end();\n",
        "  vector<int> memoValue;\n",
        "  if (inMemo) {\n",
        "    #pragma omp critical\n",
        "    {\n",
        "      memoValue = memo[key];\n",
        "    }\n",
        "    return memoValue;\n",
        "  }\n",
        "\n",
        "  // Define uma clique máxima para o candidato, que inicialmente tem o valor do candidato\n",
        "  vector<int> cliqueMaximaCandidato;\n",
        "  cliqueMaximaCandidato.push_back(verticeAtual);\n",
        "\n",
        "  // Define um vetor de novos candidatos\n",
        "  vector<int> novosCandidatos;\n",
        "\n",
        "  // Busca novos candidatos que são adjacentes a todos os membros\n",
        "  // da clique do candidato\n",
        "  for (auto u : candidatos) {\n",
        "    bool adjacenteATodos = true;\n",
        "\n",
        "    for (auto c : cliqueMaximaCandidato) {\n",
        "      if (grafo[u][c] == 0) {\n",
        "        adjacenteATodos = false;\n",
        "        break;\n",
        "      }\n",
        "    }\n",
        "\n",
        "    if (adjacenteATodos) {\n",
        "      novosCandidatos.push_back(u);\n",
        "    }\n",
        "  }\n",
        "\n",
        "  // Para cada candidato que partem de do vértice atual\n",
        "  for (auto novoCandidato : novosCandidatos) {\n",
        "    // Chama recursivamente a função. O retorno da chamada é a maior clique para aquele novo candidato\n",
        "    vector<int> cliqueNovoCandidato =\n",
        "        encontrarCliqueMaximaRec(grafo, novoCandidato, novosCandidatos, memo);\n",
        "\n",
        "    // Verifica se o vértice atual está na clique do novo candidato\n",
        "    bool podeAdicionar = true;\n",
        "    for (auto u : cliqueNovoCandidato) {\n",
        "      // Se não está ligado a alguém da clique máxima\n",
        "      // não pode adicionar\n",
        "      if (grafo[u][verticeAtual] == 0) {\n",
        "        podeAdicionar = false;\n",
        "        break;\n",
        "      }\n",
        "    }\n",
        "\n",
        "    // Se podemos adicionar o vértice atual, e essa clique é maior do que a maior clique que contém o\n",
        "    // vértice atual, atualizamos o valor clique máxima do vértice atual\n",
        "    if (podeAdicionar &&\n",
        "        cliqueNovoCandidato.size() + 1 > cliqueMaximaCandidato.size()) {\n",
        "      cliqueNovoCandidato.push_back(verticeAtual);\n",
        "      cliqueMaximaCandidato = cliqueNovoCandidato;\n",
        "    }\n",
        "  }\n",
        "\n",
        "  #pragma omp critical\n",
        "  {\n",
        "    memo[key] = cliqueMaximaCandidato;\n",
        "  }\n",
        "\n",
        " // Retorna a maior clique para aquele candidato\n",
        "  return cliqueMaximaCandidato;\n",
        "}\n",
        "\n",
        "// Função principal para encontrar a clique máxima\n",
        "vector<int> encontrarCliqueMaxima(const vector<vector<int>> &grafo,\n",
        "                                  int numVertices, int iStart, int iEnd) {\n",
        "  // Inicializa vetor pra clique atual, maior clique e primeiro vetor de candidatos\n",
        "  vector<int> cliqueAtual;\n",
        "  vector<int> melhorClique;\n",
        "  vector<int> candidatos;\n",
        "  unordered_map<string, vector<int>> memo; // Use a hash table for memoization\n",
        "  memo.clear();\n",
        "\n",
        "  // Preenche o primeiro vetor de candidatos, inicialmente todos os vértices são candidatos\n",
        "  for (int i = 0; i < numVertices; i++) {\n",
        "    candidatos.push_back(i);\n",
        "  }\n",
        "\n",
        "  // Acha a maior clique para cada candidato, e se for maior do que a maior clique,\n",
        "  // atualiza o valor da maior clique\n",
        "  // Usa omp para calcular cliques em threads separadas\n",
        "  // Calcula apenas para os candidatos que o processo é responsável\n",
        "  #pragma omp parallel for\n",
        "  for (int i = iStart; i < iEnd; i++) {\n",
        "    int candidato = candidatos[i];\n",
        "    cliqueAtual = encontrarCliqueMaximaRec(grafo, candidato, candidatos, memo);\n",
        "\n",
        "    if (cliqueAtual.size() > melhorClique.size()) {\n",
        "      melhorClique = cliqueAtual;\n",
        "    }\n",
        "  }\n",
        "\n",
        "  return melhorClique;\n",
        "}\n",
        "\n",
        "int main() {\n",
        "  // Inicializa MPI\n",
        "  MPI_Init(NULL, NULL);\n",
        "  int rank, size;\n",
        "\n",
        "  // Recupera rank do processo e tamanho da topologia\n",
        "  MPI_Comm_rank(MPI_COMM_WORLD, &rank);\n",
        "  MPI_Comm_size(MPI_COMM_WORLD, &size);\n",
        "\n",
        "  // Inicializa variáveis para grafo e tamanho de vértices\n",
        "  vector<vector<int>> grafo;\n",
        "  int numVertices = 0;\n",
        "\n",
        "  // Processo zero executa o código de ler o grafo\n",
        "  if (rank == 0) {\n",
        "    grafo = lerGrafo(\"grafo.txt\", numVertices);\n",
        "  }\n",
        "\n",
        "  // Processo zero faz broadcast do número de vértices\n",
        "  MPI_Bcast(&numVertices, 1, MPI_INT, 0, MPI_COMM_WORLD);\n",
        "\n",
        "  // Outros processos que não o zero redimensionam o grafo de acordo com o\n",
        "  // número de vértices\n",
        "  if (rank != 0) {\n",
        "    grafo.resize(numVertices, vector<int>(numVertices));\n",
        "  }\n",
        "\n",
        "  // Processos criam um array 1D para receber o grafo,\n",
        "  // Processo zero cria o array 1D a partir do grafo\n",
        "  vector<int> flattened;\n",
        "  flattened.reserve(numVertices * numVertices);\n",
        "  for (const auto &row : grafo) {\n",
        "    flattened.insert(flattened.end(), row.begin(), row.end());\n",
        "  }\n",
        "\n",
        "  // Processo zero faz o broadcast do grafo 1D\n",
        "  MPI_Bcast(flattened.data(), numVertices * numVertices, MPI_INT, 0, MPI_COMM_WORLD);\n",
        "\n",
        "  // Outros processos que não o zero, preenchem o grafo 2D\n",
        "  if (rank != 0) {\n",
        "    grafo.clear();\n",
        "    for (int i = 0; i < numVertices; ++i) {\n",
        "      grafo.emplace_back(flattened.begin() + i * numVertices, flattened.begin() + (i + 1) * numVertices);\n",
        "    }\n",
        "  }\n",
        "\n",
        "  // Pega tempo inicial\n",
        "  auto start = high_resolution_clock::now();\n",
        "\n",
        "  // Calcula os índices de candidatos que cada processo irá calcular\n",
        "  int procCandidatosParaVerificar = numVertices / size;\n",
        "  int iStart = rank * procCandidatosParaVerificar;\n",
        "  int iEnd = iStart + procCandidatosParaVerificar;\n",
        "\n",
        "  vector<int> cliqueMaxima = encontrarCliqueMaxima(grafo, numVertices, iStart, iEnd);\n",
        "\n",
        "  if (rank == 0) {\n",
        "      // Processo principal recebe as maiores cliques que os outros processos calcularam\n",
        "      // e obtém o valor da maior\n",
        "      for (int i = 1; i < size; i++) {\n",
        "        int tamanhoCliqueMaximaProc;\n",
        "        MPI_Recv(&tamanhoCliqueMaximaProc, 1, MPI_INT, i, 1, MPI_COMM_WORLD, MPI_STATUS_IGNORE);\n",
        "\n",
        "        vector<int> cliqueMaximaProc(tamanhoCliqueMaximaProc);\n",
        "        MPI_Recv(cliqueMaximaProc.data(), tamanhoCliqueMaximaProc, MPI_INT, i, 2, MPI_COMM_WORLD, MPI_STATUS_IGNORE);\n",
        "\n",
        "        if (tamanhoCliqueMaximaProc > (int) cliqueMaxima.size()) {\n",
        "          cliqueMaxima = cliqueMaximaProc;\n",
        "        }\n",
        "      }\n",
        "\n",
        "    } else {\n",
        "      // Outros processos mandam para o processo principal a maior clique que foi\n",
        "      // calculada\n",
        "      int tamanhoCliqueMaximaProc = cliqueMaxima.size();\n",
        "      MPI_Send(&tamanhoCliqueMaximaProc, 1, MPI_INT, 0, 1, MPI_COMM_WORLD);\n",
        "      MPI_Send(cliqueMaxima.data(), tamanhoCliqueMaximaProc, MPI_INT, 0, 2, MPI_COMM_WORLD);\n",
        "    }\n",
        "\n",
        "  // Processo principal mostra resultados\n",
        "  if (rank == 0) {\n",
        "    // Obtém o tempo final\n",
        "    auto stop = high_resolution_clock::now();\n",
        "    auto duration = duration_cast<milliseconds>(stop - start);\n",
        "\n",
        "    // Mostra o tempo final\n",
        "    cout << \"Execution time: \" << duration.count() << \" milliseconds\" << endl;\n",
        "\n",
        "    // Mostra qual é a clique máxima encontrada\n",
        "    cout << \"Clique máxima: \";\n",
        "    for (auto vertice : cliqueMaxima) {\n",
        "      cout << vertice + 1 << \" \";\n",
        "    }\n",
        "    cout << endl;\n",
        "    cout << \"Tamanho clique máxima: \" << cliqueMaxima.size() << endl;\n",
        "  }\n",
        "\n",
        "  // Finaliza MPI\n",
        "  MPI_Finalize();\n",
        "\n",
        "  return 0;\n",
        "}\n"
      ],
      "metadata": {
        "colab": {
          "base_uri": "https://localhost:8080/"
        },
        "id": "BXFGfVdVjikL",
        "outputId": "933464c3-6fae-43c0-9897-2a55b31125d6"
      },
      "execution_count": 92,
      "outputs": [
        {
          "output_type": "stream",
          "name": "stdout",
          "text": [
            "Writing forca-bruta-memoizado-distribuida.cpp\n"
          ]
        }
      ]
    },
    {
      "cell_type": "code",
      "source": [
        "%%shell\n",
        "mpic++ -Wall -O3 -fopenmp -o forca-bruta-memoizado-distribuida forca-bruta-memoizado-distribuida.cpp\n",
        "mpirun --allow-run-as-root -np 1 ./forca-bruta-memoizado-distribuida # Aparentemente não é possível roda com np > 1 no colab :("
      ],
      "metadata": {
        "colab": {
          "base_uri": "https://localhost:8080/"
        },
        "id": "N5aJPCf1lXdw",
        "outputId": "08a4e90d-5e62-4909-eb85-405fa1961d0e"
      },
      "execution_count": 93,
      "outputs": [
        {
          "output_type": "stream",
          "name": "stdout",
          "text": [
            "Execution time: 104 milliseconds\n",
            "Clique máxima: 24 15 12 9 8 6 4 2 18 \n",
            "Tamanho clique máxima: 9\n"
          ]
        },
        {
          "output_type": "execute_result",
          "data": {
            "text/plain": []
          },
          "metadata": {},
          "execution_count": 93
        }
      ]
    },
    {
      "cell_type": "markdown",
      "source": [
        "## Simulações\n",
        "\n",
        "-----\n",
        "\n",
        "Para saber como cada versão se comportou em relação ao tempo de execução, cada versão do código (excluindo a primeira implementação) foi testada no cluster da disciplina. Além disso, foram gerados diferentes inputs, grafos de tamanho de 25, 30, 35, 40, 45 e 50.\n",
        "\n",
        "\n",
        "Nessa seção serão expostos os arquivos de submissão de cada job no cluster, além de gráficos demonstrando as diferenças no tempo de execução de cada algoritmo. Caso queira visualizar os arquivos de outputs dos jobs que estão sendo utilizados aqui, eles estão disponíveis na pasta [simulacoes-cluster](https://github.com/Paulofalcao2002/projetoSuperComp/tree/main/simulacoes-cluster) do repositório do projeto.\n",
        "\n",
        "\n",
        "#### Até qual tamanho de problema você conseguiu obter um resultado em tempo hábil (aprox. 15 min)?\n",
        "\n",
        "Como veremos a seguir a melhor implementação é `forca-bruta-memoizado-paralelizado` e durante os testes essa implementação conseguiu encontrar a maior clique em um grado de 100 vértices em 16 minutos.\n"
      ],
      "metadata": {
        "id": "v2hGnbeXlw3K"
      }
    },
    {
      "cell_type": "markdown",
      "source": [
        "### Arquivos de submissão dos jobs\n",
        "\n",
        "\n",
        "Os arquivos foram usados para submeter todos os jobs do mesmo algoritmo (eg: Algoritmo força bruta memoizado sem paralelização). Para indicar qual o tamanho do grafo que estava sendo analisado foi utilizado o nome do job (eg: --job-name=paralelizado-XX-vertices)."
      ],
      "metadata": {
        "id": "JuyFmZMOnEPE"
      }
    },
    {
      "cell_type": "markdown",
      "source": [
        "sequencial.slurm\n",
        "```bash\n",
        "#!/bin/bash\n",
        "#SBATCH --ntasks=1\n",
        "#SBATCH --partition=normal\n",
        "#SBATCH --job-name=sequencial-50-vertices\n",
        "\n",
        "# Executa o código MPI\n",
        "./forca-bruta-recursivo\n",
        "```\n",
        "\n",
        "paralelisado.slurm\n",
        "```bash\n",
        "#!/bin/bash\n",
        "#SBATCH --ntasks=1\n",
        "#SBATCH --cpus-per-task=4\n",
        "#SBATCH --partition=normal\n",
        "#SBATCH --job-name=paralelizado-50-vertices\n",
        "\n",
        "# Executa o código MPI\n",
        "./forca-bruta-recursivo-paralelisado\n",
        "```\n",
        "\n",
        "distribuido.slurm\n",
        "```bash\n",
        "#!/bin/bash\n",
        "#SBATCH --ntasks=4\n",
        "#SBATCH --cpus-per-task=2\n",
        "#SBATCH --partition=normal\n",
        "#SBATCH --job-name=distribuido-50-vertices\n",
        "\n",
        "# Executa o código MPI\n",
        "mpirun -np 4 ./forca-bruta-recursivo-distribuido\n",
        "```\n",
        "\n",
        "sequencial-memoizado.slurm\n",
        "```bash\n",
        "#!/bin/bash\n",
        "#SBATCH --ntasks=1\n",
        "#SBATCH --partition=normal\n",
        "#SBATCH --job-name=sequencial-50-vertices\n",
        "\n",
        "# Executa o código MPI\n",
        "./forca-bruta-memoizado\n",
        "```\n",
        "\n",
        "paralelisado-memoizado.slurm\n",
        "```bash\n",
        "#!/bin/bash\n",
        "#SBATCH --ntasks=1\n",
        "#SBATCH --cpus-per-task=3\n",
        "#SBATCH --partition=normal\n",
        "#SBATCH --job-name=paralelizado-memoizado-50-vertices\n",
        "\n",
        "# Executa o código MPI\n",
        "./forca-bruta-memoizado-paralelisado\n",
        "```\n",
        "\n",
        "distribuido-memoizado.slurm\n",
        "```bash\n",
        "#!/bin/bash\n",
        "#SBATCH --ntasks=4\n",
        "#SBATCH --cpus-per-task=2\n",
        "#SBATCH --partition=normal\n",
        "#SBATCH --job-name=distribuido-50-vertices\n",
        "\n",
        "# Executa o código MPI\n",
        "mpirun -np 4 ./forca-bruta-memoizado-distribuido\n",
        "```"
      ],
      "metadata": {
        "id": "Dv2YVSEgoXyK"
      }
    },
    {
      "cell_type": "markdown",
      "source": [
        "### Resultados\n",
        "\n",
        "\n",
        "Para demonstrar a diferença dos resultados, as células a seguir vão criar gráficos comparando os outputs dos jobs. Ao todo foram rodados 66 jobs, 6 para cada arquivo de submissão."
      ],
      "metadata": {
        "id": "kVGmQbjco6WO"
      }
    },
    {
      "cell_type": "code",
      "source": [
        "import matplotlib.pyplot as plt\n",
        "\n",
        "# Número de vértices (eixo x)\n",
        "n_vertices = [25, 30, 35, 40, 45, 50]\n",
        "\n",
        "# Tempos de execução de cada algoritmo em ms\n",
        "sequencial = [397, 2422, 21245, 94449, 1180895, 651750]\n",
        "paralelizado = [160, 1148, 9389, 38442, 618543, 341409]\n",
        "distribuido = [232, 1026, 7387, 37603, 470338, 274262]\n",
        "\n",
        "sequencial_memo = [135, 446, 1520, 3521, 9934, 10677]\n",
        "paralelizado_memo = [77, 189, 612, 1386, 3843, 4693]\n",
        "distribuido_memo = [107, 392, 1327, 3622, 10839, 10434]\n",
        "\n",
        "\n",
        "# Plotando as implementações\n",
        "plt.figure(figsize=(20, 8))\n",
        "\n",
        "plt.plot(n_vertices, sequencial, marker='o', label='Sequencial')\n",
        "plt.plot(n_vertices, paralelizado, marker='o', label='Paralelizado')\n",
        "plt.plot(n_vertices, distribuido, marker='o', label='Distribuido')\n",
        "\n",
        "plt.plot(n_vertices, sequencial_memo, marker='o', linestyle='--', label='Sequencial com memoização')\n",
        "plt.plot(n_vertices, paralelizado_memo, marker='o', linestyle='--', label='Paralelizado com memoização')\n",
        "plt.plot(n_vertices, distribuido_memo, marker='o', linestyle='--', label='Distribuido com memoização')\n",
        "\n",
        "plt.xlabel('Número de Vértices')\n",
        "plt.ylabel('Tempo de Execução (ms)')\n",
        "plt.title('Tempo de Execução em Função do Número de Vértices')\n",
        "\n",
        "plt.legend()\n",
        "plt.grid(True)\n",
        "\n",
        "plt.tight_layout()\n",
        "plt.show()"
      ],
      "metadata": {
        "colab": {
          "base_uri": "https://localhost:8080/",
          "height": 730
        },
        "id": "GpjvExPCpQUM",
        "outputId": "e18a0fd8-0c80-4204-d403-d292de5c2b05"
      },
      "execution_count": 95,
      "outputs": [
        {
          "output_type": "display_data",
          "data": {
            "text/plain": [
              "<Figure size 2000x800 with 1 Axes>"
            ],
            "image/png": "[encoded data removed]"
          },
          "metadata": {}
        }
      ]
    },
    {
      "cell_type": "markdown",
      "source": [
        "Podemos observar que para quantidade de vértices pequenas, o tempo de execução é parecido para todas as implementações e conforme o número de vértices aumenta as implementações com paralelização começam a ficar mais rápidas do que a implementação sequencial, respeitando a ordem:\n",
        "\n",
        "    sequencial < paralela com threads < paralela com mpi e threads\n",
        "\n",
        "Além disso, podemos ver que um número de vértices maior não significa necessariamente uma execução mais lenta, o que acontece com o grafo com vértices de 45 e 50. Isso é pela natureza aleatória de como os grafos estão sendo gerados, provavelmente o grafo de 45 possui uma quantidade de cliques maior ou uma quantidade maior de candidatos a serem analisados em cada clique.\n",
        "\n",
        "\n",
        "Por fim é evidente que o algoritmo com memoização é mais rápido do que o algoritmo puramente recursivo, não importando a paralelização. Isso evidencia o que foi constatado na primeira aula do curso, para a performance de uma solução o algoritmo implementado é tão importante a paralelização.\n",
        "\n",
        "\n",
        "Agora vamos dar uma olhada específica apenas nas implementações com memoização.\n"
      ],
      "metadata": {
        "id": "VHXNQYzxsX7K"
      }
    },
    {
      "cell_type": "code",
      "source": [
        "# Plotando as implementações\n",
        "plt.figure(figsize=(20, 8))\n",
        "\n",
        "plt.plot(n_vertices, sequencial_memo, marker='o', label='Sequencial com memoização')\n",
        "plt.plot(n_vertices, paralelizado_memo, marker='o', label='Paralelizado com memoização')\n",
        "plt.plot(n_vertices, distribuido_memo, marker='o', label='Distribuido com memoização')\n",
        "\n",
        "plt.xlabel('Número de Vértices')\n",
        "plt.ylabel('Tempo de Execução (ms)')\n",
        "plt.title('Tempo de Execução das versões memoizadas em Função do Número de Vértices')\n",
        "\n",
        "plt.legend()\n",
        "plt.grid(True)\n",
        "\n",
        "plt.tight_layout()\n",
        "plt.show()"
      ],
      "metadata": {
        "colab": {
          "base_uri": "https://localhost:8080/",
          "height": 730
        },
        "id": "118UFuRkWO9q",
        "outputId": "b5a99562-e19a-4b3a-ed68-7978a468b9b9"
      },
      "execution_count": 97,
      "outputs": [
        {
          "output_type": "display_data",
          "data": {
            "text/plain": [
              "<Figure size 2000x800 with 1 Axes>"
            ],
            "image/png": "[encoded data removed]"
          },
          "metadata": {}
        }
      ]
    },
    {
      "cell_type": "markdown",
      "source": [
        "Analisando puramente a versão memoizada, percebemos que as implementações distribuídas e sequenciais possuem tempo de execução muito semelhante, enquanto a versão paralelizada apenas com OMP possui tempo de execução consistentemente menor.\n",
        "\n",
        "\n",
        "Isso acontece pelo fato de o número de vértices não ser suficiente para a implementação distribuída valer a pena, já que o ***overhead*** que vem junto com o MPI (tempo de execução causado pela comunicação entre os processos), faz o ganho de paralelizar os cálculos entre processos diferentes não valer a pena. Contudo, a implementação com OMP, possui uma comunicação entre threads mais otimizada do que a comunicação entre processos do MPI, já que uma é nativa do OMP enquanto a outra foi programada por mim. Isso faz com que a versão de OMP para esse número de vértices seja a melhor de todas."
      ],
      "metadata": {
        "id": "jot9R0rcXFPs"
      }
    },
    {
      "cell_type": "markdown",
      "source": [
        "### Topologias em MPI\n",
        "\n",
        "As topologias em MPI também são um fator que deve ser levado em conta para a performance do algoritmo. Isso porque o mesmo algoritmo vai performar melhor ou pior dependendo da topologia do job. Para demonstrar essas diferenças, para o mesma implementação, `forca-bruta-sequencial-distribuido.cpp` vamos observar como as diferentes topologias influenciam no tempo de execução."
      ],
      "metadata": {
        "id": "uVgvtrQZob7x"
      }
    },
    {
      "cell_type": "markdown",
      "source": [
        "distribuido-2-tasks.slurm\n",
        "```bash\n",
        "#!/bin/bash\n",
        "#SBATCH --ntasks=2\n",
        "#SBATCH --cpus-per-task=4\n",
        "#SBATCH --partition=normal\n",
        "#SBATCH --job-name=distribuido-2-tasks-50-vertices\n",
        "\n",
        "# Executa o código MPI\n",
        "mpirun -np 2 ./forca-bruta-recursivo-distribuido\n",
        "```\n",
        "\n",
        "distribuido-8-tasks.slurm\n",
        "```bash\n",
        "#!/bin/bash\n",
        "#SBATCH --ntasks=8\n",
        "#SBATCH --cpus-per-task=1\n",
        "#SBATCH --partition=normal\n",
        "#SBATCH --job-name=distribuido-2-tasks-50-vertices\n",
        "\n",
        "# Executa o código MPI\n",
        "mpirun -np 8 ./forca-bruta-recursivo-distribuido\n",
        "```\n",
        "\n",
        "Além da topologia utilizada anteriormente:\n",
        "\n",
        "distribuido.slurm\n",
        "```bash\n",
        "#!/bin/bash\n",
        "#SBATCH --ntasks=4\n",
        "#SBATCH --cpus-per-task=2\n",
        "#SBATCH --partition=normal\n",
        "#SBATCH --job-name=distribuido-50-vertices\n",
        "\n",
        "# Executa o código MPI\n",
        "mpirun -np 4 ./forca-bruta-recursivo-distribuido\n",
        "```\n",
        "\n",
        "Os arquivos de saída de cada job pode ser encontrado [aqui](https://github.com/Paulofalcao2002/projetoSuperComp/tree/main/simulacoes-cluster)"
      ],
      "metadata": {
        "id": "jHvK-QHTqPYM"
      }
    },
    {
      "cell_type": "code",
      "source": [
        "distribuido_2_tasks = [203, 1541, 11036, 52925, 399257, 395702]\n",
        "distribuido_8_tasks = [341, 1049, 7897, 38613, 287931, 290394]\n",
        "\n",
        "# Plotando as implementações\n",
        "plt.figure(figsize=(20, 8))\n",
        "\n",
        "plt.plot(n_vertices, distribuido_2_tasks, marker='o', label='Distribuido 2 tasks')\n",
        "plt.plot(n_vertices, distribuido, marker='o', label='Distribuido 4 tasks')\n",
        "plt.plot(n_vertices, distribuido_8_tasks, marker='o', label='Distribuido 8 tasks')\n",
        "\n",
        "\n",
        "plt.xlabel('Número de Vértices')\n",
        "plt.ylabel('Tempo de Execução (ms)')\n",
        "plt.title('Tempo de Execução para diferentes topologias')\n",
        "\n",
        "plt.legend()\n",
        "plt.grid(True)\n",
        "\n",
        "plt.tight_layout()\n",
        "plt.show()"
      ],
      "metadata": {
        "colab": {
          "base_uri": "https://localhost:8080/",
          "height": 730
        },
        "id": "rXKkT2CGY4-W",
        "outputId": "278f3ee6-c340-44ad-90de-2dcc63ca06c5"
      },
      "execution_count": 98,
      "outputs": [
        {
          "output_type": "display_data",
          "data": {
            "text/plain": [
              "<Figure size 2000x800 with 1 Axes>"
            ],
            "image/png": "[encoded data removed]"
          },
          "metadata": {}
        }
      ]
    },
    {
      "cell_type": "markdown",
      "source": [
        "Podemos ver que o resultado não é sempre óbvio, ou seja, um maior número de processos não significa necessariamente que levará a um menor tempo de execução. Além disso, existem número de vértices que executam mais rápido para um processo com mais *tasks* e outros para um processo com menos *tasks*. Em geral, parece que a topologia com 4 processos, performa melhor sempre (tirando o grafo de 45 vértices).\n"
      ],
      "metadata": {
        "id": "B-o9j4LSEQpa"
      }
    },
    {
      "cell_type": "markdown",
      "source": [
        "## Heurísticas\n",
        "------\n",
        "\n",
        "Uma maneira de obter soluções \"razoáveis\" em tempo de execução muito mais rápido é através de heurísticas, onde abrimos mão de encontrar a solução ótima para ganharmos em velocidade. A seguir estão duas heurísticas diferentes para resolver o problema da clique máxima em um grafo."
      ],
      "metadata": {
        "id": "tj9GE4-er4vK"
      }
    },
    {
      "cell_type": "markdown",
      "source": [
        "### Abordagem gulosa\n",
        "\n",
        "Para encontrar a maior clique, essa abordagem explora uma das propriedades do problema de encontrar as cliques, o nível de adjacência de cada vértice. Dessa forma, ela busca a maior clique que envolve os vértices com maior nível de adjacência, ignorando os vértices que possuem adjacência baixa. Ela não irá necessariamente achar a maior clique justamente pois a maior clique pode não envolver os vértices com maior nível de adjacência."
      ],
      "metadata": {
        "id": "9kN0uTwXsraH"
      }
    },
    {
      "cell_type": "code",
      "source": [
        "%%writefile heuristica-adjacencia.cpp\n",
        "#include <algorithm>\n",
        "#include <chrono>\n",
        "#include <fstream>\n",
        "#include <iostream>\n",
        "#include <vector>\n",
        "using namespace std;\n",
        "using namespace chrono;\n",
        "\n",
        "// Função para ler o grafo a partir do arquivo de entrada\n",
        "vector<vector<int>> lerGrafo(const string &nomeArquivo, int &numVertices) {\n",
        "  ifstream arquivo(nomeArquivo);\n",
        "  int numArestas;\n",
        "  arquivo >> numVertices >> numArestas;\n",
        "\n",
        "  vector<vector<int>> grafo(numVertices, vector<int>(numVertices, 0));\n",
        "\n",
        "  for (int i = 0; i < numArestas; ++i) {\n",
        "    int u, v;\n",
        "    arquivo >> u >> v;\n",
        "    grafo[u - 1][v - 1] = 1;\n",
        "    grafo[v - 1][u - 1] = 1; // O grafo é não direcionado\n",
        "  }\n",
        "\n",
        "  arquivo.close();\n",
        "\n",
        "  return grafo;\n",
        "}\n",
        "\n",
        "// Função que retorna o candidato com maior adjacência\n",
        "int encontraCandidatoSegundoHeuristica(const vector<vector<int>> &grafo,\n",
        "                                     vector<int> &candidatos) {\n",
        "\n",
        "  // Inicializa o número máximo de adjacências encontrado\n",
        "  int maxAdjacencias = -1;\n",
        "  // Inicializa o índice do candidato ideal\n",
        "  int candidatoIdeal = -1;\n",
        "\n",
        "  // Para todos os candidatos, busca o com maior adjacência\n",
        "  for (int i = 0; i < (int) candidatos.size(); ++i) {\n",
        "      int adjacencias = 0;\n",
        "      for (int j = 0; j < (int) candidatos.size(); ++j) {\n",
        "          // Se o candidato é adjacente a algum outro, incrementa seu nível de adjacência\n",
        "          if (grafo[candidatos[i]][candidatos[j]] == 1) {\n",
        "              adjacencias++;\n",
        "          }\n",
        "      }\n",
        "\n",
        "      // Verifica se o número de adjacências é maior que o máximo encontrado até agora\n",
        "      if (adjacencias > maxAdjacencias) {\n",
        "          maxAdjacencias = adjacencias;\n",
        "          candidatoIdeal = i;\n",
        "      }\n",
        "  }\n",
        "\n",
        "  // Retorna o índice do candidato com mais adjacências\n",
        "  return candidatoIdeal;\n",
        "}\n",
        "\n",
        "// Função recursiva para encontrar a clique máxima\n",
        "vector<int> encontrarCliqueMaximaHeuristica(const vector<vector<int>> &grafo,\n",
        "                                     vector<int> candidatos) {\n",
        "\n",
        "  // Cria clique máxima\n",
        "  vector<int> cliqueMaxima;\n",
        "\n",
        "  // Enquanto ainda existirem candidatos\n",
        "  while (candidatos.size() > 0) {\n",
        "    // Usa a função da heurística para achar o candidato ideal\n",
        "    int indiceCandidatoComMaiorAdjacencia = encontraCandidatoSegundoHeuristica(grafo, candidatos);\n",
        "    int candidato = candidatos[indiceCandidatoComMaiorAdjacencia];\n",
        "\n",
        "    // Apaga o candidato atual do vetor de candidatos\n",
        "    candidatos.erase(candidatos.begin() + indiceCandidatoComMaiorAdjacencia);\n",
        "\n",
        "    // Adiciona candidato a clique máxima\n",
        "    cliqueMaxima.push_back(candidato);\n",
        "\n",
        "    // Vamos construir um novo vetor de candidatos\n",
        "    vector<int> novosCandidatos;\n",
        "    for (auto candidatoAtual: candidatos) {\n",
        "      bool adjacenteACliqueMaxima = true;\n",
        "\n",
        "      for (auto membroClique: cliqueMaxima) {\n",
        "        if (grafo[candidatoAtual][membroClique] == 0) {\n",
        "          adjacenteACliqueMaxima = false;\n",
        "          break;\n",
        "        }\n",
        "      }\n",
        "\n",
        "      if (adjacenteACliqueMaxima) {\n",
        "        novosCandidatos.push_back(candidatoAtual);\n",
        "      }\n",
        "    }\n",
        "\n",
        "    // Atualiza os candidatos de acordo com os novos candidatos\n",
        "    candidatos = novosCandidatos;\n",
        "  }\n",
        "\n",
        "  // Retorna clique máxima\n",
        "  return cliqueMaxima;\n",
        "}\n",
        "\n",
        "// Função principal para encontrar a clique máxima\n",
        "vector<int> encontrarCliqueMaxima(const vector<vector<int>> &grafo,\n",
        "                                  int numVertices) {\n",
        "  // Inicializa vetor pra maior clique e primeiro vetor de candidatos\n",
        "  vector<int> melhorClique;\n",
        "  vector<int> candidatos;\n",
        "\n",
        "  // Preenche o primeiro vetor de candidatos, inicialmente todos os vértices são candidatos\n",
        "  for (int i = 0; i < numVertices; i++) {\n",
        "    candidatos.push_back(i);\n",
        "  }\n",
        "\n",
        "  melhorClique = encontrarCliqueMaximaHeuristica(grafo, candidatos);\n",
        "\n",
        "  // Retorna a maior clique\n",
        "  return melhorClique;\n",
        "}\n",
        "\n",
        "int main() {\n",
        "  // Lê grafo\n",
        "  int numVertices;\n",
        "  vector<vector<int>> grafo = lerGrafo(\"grafo.txt\", numVertices);\n",
        "\n",
        "  // Mede tempo inicial\n",
        "  auto start = high_resolution_clock::now();\n",
        "\n",
        "  // Executa a função de achar maior clique\n",
        "  vector<int> cliqueMaxima = encontrarCliqueMaxima(grafo, numVertices);\n",
        "\n",
        "  // Retém o tempo final\n",
        "  auto stop = high_resolution_clock::now();\n",
        "  auto duration = duration_cast<milliseconds>(stop - start);\n",
        "\n",
        "  // Mostra o tempo final\n",
        "  cout << \"Execution time: \" << duration.count() << \" milliseconds\" << endl;\n",
        "\n",
        "  // Mostra qual é a clique máxima encontrada\n",
        "  cout << \"Clique máxima: \";\n",
        "  for (auto vertice : cliqueMaxima) {\n",
        "    cout << vertice + 1 << \" \";\n",
        "  }\n",
        "  cout << endl;\n",
        "  cout << \"Tamanho clique máxima: \" << cliqueMaxima.size() << endl;\n",
        "\n",
        "  return 0;\n",
        "}\n",
        "\n"
      ],
      "metadata": {
        "colab": {
          "base_uri": "https://localhost:8080/"
        },
        "id": "6EDRmdgXtdCv",
        "outputId": "ab0289f7-d4a0-4ea4-d75f-acf4b80d81e7"
      },
      "execution_count": 99,
      "outputs": [
        {
          "output_type": "stream",
          "name": "stdout",
          "text": [
            "Overwriting heuristica-adjacencia.cpp\n"
          ]
        }
      ]
    },
    {
      "cell_type": "code",
      "source": [
        "%%shell\n",
        "g++ -Wall -O3 -o heuristica-adjacencia heuristica-adjacencia.cpp\n",
        "./heuristica-adjacencia"
      ],
      "metadata": {
        "colab": {
          "base_uri": "https://localhost:8080/"
        },
        "id": "4DNLyGlwt4gN",
        "outputId": "40f56094-bcef-42a2-eb18-f9570677d00f"
      },
      "execution_count": 100,
      "outputs": [
        {
          "output_type": "stream",
          "name": "stdout",
          "text": [
            "Execution time: 0 milliseconds\n",
            "Clique máxima: 6 8 18 9 4 15 2 12 24 \n",
            "Tamanho clique máxima: 9\n"
          ]
        },
        {
          "output_type": "execute_result",
          "data": {
            "text/plain": []
          },
          "metadata": {},
          "execution_count": 100
        }
      ]
    },
    {
      "cell_type": "markdown",
      "source": [
        "Podemos ver que a clique máxima não foi encontrada, porém em uma velocidade enorme foi retornada uma clique que possui um vértice a menos do que a máxima. Essa é a vantagem de utilizar algoritmos com heurísticas."
      ],
      "metadata": {
        "id": "pvfL3euduP_N"
      }
    },
    {
      "cell_type": "markdown",
      "source": [
        "### Abordagem gulosa + randomização\n",
        "\n",
        "\n",
        "Um problema da nossa abordagem é que ela foca completamente em explorar a propriedade da adjacência do problema. Isso faz com que o universo de soluções possíveis não seja explorado por completo. Dessa forma, ao adicionar uma chance randômica, por exemplo, de selecionar um candidato aleatório, estaremos dando a chance de nosso resultado, ao explorar um universo maior de candidatos, ser melhor do que a abordagem anterior. Esse é o conceito de **exploration x exploitation** visto em aula.\n",
        "\n",
        "\n",
        "Para implementar isso, na função que escolhe o candidato segundo a heurística, existe uma chance de 25% de ela escolher um candidato aleatório."
      ],
      "metadata": {
        "id": "mkho2zkBusHW"
      }
    },
    {
      "cell_type": "code",
      "source": [
        "%%writefile heuristica-adjacencia-randomica.cpp\n",
        "#include <algorithm>\n",
        "#include <chrono>\n",
        "#include <fstream>\n",
        "#include <iostream>\n",
        "#include <vector>\n",
        "#include <random>\n",
        "using namespace std;\n",
        "using namespace chrono;\n",
        "\n",
        "// Função para ler o grafo a partir do arquivo de entrada\n",
        "vector<vector<int>> lerGrafo(const string &nomeArquivo, int &numVertices) {\n",
        "  ifstream arquivo(nomeArquivo);\n",
        "  int numArestas;\n",
        "  arquivo >> numVertices >> numArestas;\n",
        "\n",
        "  vector<vector<int>> grafo(numVertices, vector<int>(numVertices, 0));\n",
        "\n",
        "  for (int i = 0; i < numArestas; ++i) {\n",
        "    int u, v;\n",
        "    arquivo >> u >> v;\n",
        "    grafo[u - 1][v - 1] = 1;\n",
        "    grafo[v - 1][u - 1] = 1; // O grafo é não direcionado\n",
        "  }\n",
        "\n",
        "  arquivo.close();\n",
        "\n",
        "  return grafo;\n",
        "}\n",
        "\n",
        "// Função que retorna o candidato com maior adjacência\n",
        "int encontraCandidatoSegundoHeuristica(const vector<vector<int>> &grafo,\n",
        "                                     vector<int> &candidatos,\n",
        "                                     mt19937 &gen) {\n",
        "\n",
        "  // Inicializa o número máximo de adjacências encontrado\n",
        "  int maxAdjacencias = -1;\n",
        "  // Inicializa o índice do candidato ideal\n",
        "  int candidatoIdeal = -1;\n",
        "\n",
        "  // Inicializa a chance de escolha aleatória como false\n",
        "  bool escolhaAleatoria = false;\n",
        "\n",
        "  // Gera um número aleatório entre 0 e 3 (25% de chance)\n",
        "  uniform_int_distribution<> dis(0, 3);\n",
        "  int randNum = dis(gen);\n",
        "\n",
        "  if (randNum == 0) {\n",
        "      escolhaAleatoria = true;\n",
        "  }\n",
        "\n",
        "  // Se a escolha for aleatória\n",
        "  if (escolhaAleatoria) {\n",
        "      uniform_int_distribution<> disCandidates(0, candidatos.size() - 1);\n",
        "      candidatoIdeal = disCandidates(gen);\n",
        "      return candidatoIdeal;\n",
        "  }\n",
        "\n",
        "  // Para todos os candidatos, busca o com maior adjacência\n",
        "  for (int i = 0; i < (int) candidatos.size(); ++i) {\n",
        "      int adjacencias = 0;\n",
        "      for (int j = 0; j < (int) candidatos.size(); ++j) {\n",
        "          // Se o candidato é adjacente a algum outro, incrementa seu nível de adjacência\n",
        "          if (grafo[candidatos[i]][candidatos[j]] == 1) {\n",
        "              adjacencias++;\n",
        "          }\n",
        "      }\n",
        "\n",
        "      // Verifica se o número de adjacências é maior que o máximo encontrado até agora\n",
        "      if (adjacencias > maxAdjacencias) {\n",
        "          maxAdjacencias = adjacencias;\n",
        "          candidatoIdeal = i;\n",
        "      }\n",
        "  }\n",
        "\n",
        "  // Retorna o índice do candidato com mais adjacências\n",
        "  return candidatoIdeal;\n",
        "}\n",
        "\n",
        "// Função recursiva para encontrar a clique máxima\n",
        "vector<int> encontrarCliqueMaximaHeuristica(const vector<vector<int>> &grafo,\n",
        "                                     vector<int> candidatos) {\n",
        "\n",
        "  // Cria clique máxima\n",
        "  vector<int> cliqueMaxima;\n",
        "\n",
        "  // Cria um gerador de número aleatório\n",
        "  random_device rd;\n",
        "  mt19937 gen(rd());\n",
        "\n",
        "  // Enquanto ainda existirem candidatos\n",
        "  while (candidatos.size() > 0) {\n",
        "    // Usa a função da heurística para achar o candidato ideal\n",
        "    int indiceCandidatoComMaiorAdjacencia = encontraCandidatoSegundoHeuristica(grafo, candidatos, gen);\n",
        "    int candidato = candidatos[indiceCandidatoComMaiorAdjacencia];\n",
        "\n",
        "    // Apaga o candidato atual do vetor de candidatos\n",
        "    candidatos.erase(candidatos.begin() + indiceCandidatoComMaiorAdjacencia);\n",
        "\n",
        "    // Adiciona candidato a clique máxima\n",
        "    cliqueMaxima.push_back(candidato);\n",
        "\n",
        "    // Vamos construir um novo vetor de candidatos\n",
        "    vector<int> novosCandidatos;\n",
        "    for (auto candidatoAtual: candidatos) {\n",
        "      bool adjacenteACliqueMaxima = true;\n",
        "\n",
        "      for (auto membroClique: cliqueMaxima) {\n",
        "        if (grafo[candidatoAtual][membroClique] == 0) {\n",
        "          adjacenteACliqueMaxima = false;\n",
        "          break;\n",
        "        }\n",
        "      }\n",
        "\n",
        "      if (adjacenteACliqueMaxima) {\n",
        "        novosCandidatos.push_back(candidatoAtual);\n",
        "      }\n",
        "    }\n",
        "\n",
        "    // Atualiza os candidatos de acordo com os novos candidatos\n",
        "    candidatos = novosCandidatos;\n",
        "  }\n",
        "\n",
        "  // Retorna clique máxima\n",
        "  return cliqueMaxima;\n",
        "}\n",
        "\n",
        "// Função principal para encontrar a clique máxima\n",
        "vector<int> encontrarCliqueMaxima(const vector<vector<int>> &grafo,\n",
        "                                  int numVertices) {\n",
        "  // Inicializa vetor pra maior clique e primeiro vetor de candidatos\n",
        "  vector<int> melhorClique;\n",
        "  vector<int> candidatos;\n",
        "\n",
        "  // Preenche o primeiro vetor de candidatos, inicialmente todos os vértices são candidatos\n",
        "  for (int i = 0; i < numVertices; i++) {\n",
        "    candidatos.push_back(i);\n",
        "  }\n",
        "\n",
        "  melhorClique = encontrarCliqueMaximaHeuristica(grafo, candidatos);\n",
        "\n",
        "  // Retorna a maior clique\n",
        "  return melhorClique;\n",
        "}\n",
        "\n",
        "int main() {\n",
        "  // Lê grafo\n",
        "  int numVertices;\n",
        "  vector<vector<int>> grafo = lerGrafo(\"grafo.txt\", numVertices);\n",
        "\n",
        "  // Mede tempo inicial\n",
        "  auto start = high_resolution_clock::now();\n",
        "\n",
        "  // Executa a função de achar maior clique\n",
        "  vector<int> cliqueMaxima = encontrarCliqueMaxima(grafo, numVertices);\n",
        "\n",
        "  // Retém o tempo final\n",
        "  auto stop = high_resolution_clock::now();\n",
        "  auto duration = duration_cast<milliseconds>(stop - start);\n",
        "\n",
        "  // Mostra o tempo final\n",
        "  cout << \"Execution time: \" << duration.count() << \" milliseconds\" << endl;\n",
        "\n",
        "  // Mostra qual é a clique máxima encontrada\n",
        "  cout << \"Clique máxima: \";\n",
        "  for (auto vertice : cliqueMaxima) {\n",
        "    cout << vertice + 1 << \" \";\n",
        "  }\n",
        "  cout << endl;\n",
        "  cout << \"Tamanho clique máxima: \" << cliqueMaxima.size() << endl;\n",
        "\n",
        "  return 0;\n",
        "}\n",
        "\n"
      ],
      "metadata": {
        "colab": {
          "base_uri": "https://localhost:8080/"
        },
        "id": "slYI5WFfwW07",
        "outputId": "a221c3d0-aff8-415c-be8d-825a9c7d2a2a"
      },
      "execution_count": 101,
      "outputs": [
        {
          "output_type": "stream",
          "name": "stdout",
          "text": [
            "Overwriting heuristica-adjacencia-randomica.cpp\n"
          ]
        }
      ]
    },
    {
      "cell_type": "code",
      "source": [
        "%%shell\n",
        "g++ -Wall -O3 -o heuristica-adjacencia-randomica heuristica-adjacencia-randomica.cpp\n",
        "./heuristica-adjacencia-randomica"
      ],
      "metadata": {
        "colab": {
          "base_uri": "https://localhost:8080/"
        },
        "id": "8WMPVrYAxDCe",
        "outputId": "31421dc0-d7c5-498d-eb08-936e020cda65"
      },
      "execution_count": 102,
      "outputs": [
        {
          "output_type": "stream",
          "name": "stdout",
          "text": [
            "Execution time: 0 milliseconds\n",
            "Clique máxima: 16 6 18 8 5 11 3 1 \n",
            "Tamanho clique máxima: 8\n"
          ]
        },
        {
          "output_type": "execute_result",
          "data": {
            "text/plain": []
          },
          "metadata": {},
          "execution_count": 102
        }
      ]
    },
    {
      "cell_type": "markdown",
      "source": [
        "Para comparar o resultado das duas, vamos rodar o executável da solução com randomização várias vezes e computar quantas vezes essa solução é superior a solução que usa da **exploitation** puramente."
      ],
      "metadata": {
        "id": "8fDMY1YDxJT_"
      }
    },
    {
      "cell_type": "code",
      "source": [
        "# Gera um grafo maior para termos um espaço de soluções maior\n",
        "gera_grafo(150)\n",
        "\n",
        "# Acha a clique máxima\n",
        "acha_clique_maxima()"
      ],
      "metadata": {
        "colab": {
          "base_uri": "https://localhost:8080/"
        },
        "id": "KORix8Tt023k",
        "outputId": "06960969-d802-4778-b8b3-2e0272d13a24"
      },
      "execution_count": 105,
      "outputs": [
        {
          "output_type": "stream",
          "name": "stdout",
          "text": [
            "Grafo densamente conectado gerado e salvo em 'grafo.txt'.\n",
            "Clique máxima encontrada: ['143', '142', '140', '122', '104', '86', '74', '70', '51', '47', '41', '32', '23', '21', '16', '9', '3']\n",
            "Tamanho 17\n"
          ]
        }
      ]
    },
    {
      "cell_type": "code",
      "source": [
        "import subprocess\n",
        "import matplotlib.pyplot as plt\n",
        "\n",
        "# Nomes dos executáveis\n",
        "executavel_adjacencia = './heuristica-adjacencia'\n",
        "executavel_randomico = './heuristica-adjacencia-randomica'\n",
        "\n",
        "# Lista para armazenar os resultados\n",
        "resultados = []\n",
        "\n",
        "# Rodar o executável adjacencia uma vez para obter o valor de referência\n",
        "proc_adjacencia = subprocess.run([executavel_adjacencia], text=True, capture_output=True)\n",
        "resultado_adjacencia = int(proc_adjacencia.stdout.strip().split()[-1])\n",
        "\n",
        "# Rodar o executável randomico 1000 vezes\n",
        "for _ in range(1000):\n",
        "    proc_randomico = subprocess.run([executavel_randomico], text=True, capture_output=True)\n",
        "    resultado_randomico = int(proc_randomico.stdout.strip().split()[-1])\n",
        "    resultados.append(resultado_randomico >= resultado_adjacencia)\n",
        "\n",
        "# Contar quantas vezes o resultado_adjacencia foi maior que o resultado_randomico\n",
        "contagem = sum(resultados)\n",
        "\n",
        "# Configurações visuais do gráfico\n",
        "plt.figure(figsize=(12, 8))\n",
        "bar_colors = ['skyblue', 'salmon']\n",
        "plt.bar(['Randomico >= Adjacência', 'Adjacência > Randomico'], [contagem, 1000 - contagem], color=bar_colors)\n",
        "plt.xlabel('Comparação', fontsize=12)\n",
        "plt.ylabel('Frequência', fontsize=12)\n",
        "plt.title('Resultados de Randomico vs. Adjacência', fontsize=14)\n",
        "plt.xticks(fontsize=10)\n",
        "plt.yticks(fontsize=10)\n",
        "\n",
        "# Mostrar valor numérico acima das barras\n",
        "for i, v in enumerate([contagem, 1000 - contagem]):\n",
        "    plt.text(i, v, str(v), ha='center', va='bottom', fontsize=10)\n",
        "\n",
        "plt.tight_layout()\n",
        "plt.show()"
      ],
      "metadata": {
        "colab": {
          "base_uri": "https://localhost:8080/",
          "height": 807
        },
        "id": "jdKlgXVwxHxY",
        "outputId": "e12cc096-8810-436a-90dc-26135119e56c"
      },
      "execution_count": 108,
      "outputs": [
        {
          "output_type": "display_data",
          "data": {
            "text/plain": [
              "<Figure size 1200x800 with 1 Axes>"
            ],
            "image/png": "[encoded data removed]"
          },
          "metadata": {}
        }
      ]
    },
    {
      "cell_type": "markdown",
      "source": [
        "Pelo gráfico acima, podemos ver que utilizar a abordagem randômica está compensando em torno de 30% das vezes. Além disso, caso se deseje chegar mais próximo da solução verdadeira possível é preciso utilizar a abordagem randômica, justificando ela como uma implementação mais completa que a utiliza puramente ***exploitation***. Caso desejássemos uma heurística ainda melhor, que combina tanto ***exploitation*** e ***exploration***, poderíamos utilizar um algoritmo genético, por exemplo.\n"
      ],
      "metadata": {
        "id": "68B9ZogM71Un"
      }
    },
    {
      "cell_type": "markdown",
      "source": [
        "## Conclusão\n",
        "\n",
        "\n",
        "Em conclusão, o problema de encontrar a clique máxima em um grafo é um dos problemas mais difíceis que existem em termos computacionais. Durante o estudo foram feitas diversas soluções que buscavam encontrar a solução ótima, com tentativas de otimização utilizando tecnologias com OMP e MPI. Além disso, ao final foram apresentadas soluções alternativas, que utilizam heurśiticas para encontrar uma solução \"razoável\" para o problema em tempo muito mais rápido do que as soluções exaustivas.\n",
        "\n",
        "\n",
        "Os resultados demonstram que não existe solução perfeita, porém analisando o contexto do problema que exige a busca por cliques máximos em um grafo, é possível escolher qual a melhor solução que se encaixa ao contexto. Além disso, a paralelização nem sempre significa melhor performance de um algoritmo. Uma solução que é muito rápida sequencialmente, talvez não se beneficie de paralelização para uma quantidade pequena de vértices. No entanto, à medida que a solução sequencial se torna lenta em grafos maiores, é esperado que a solução paralela sempre passe a ser mais rápida.\n",
        "\n",
        "\n",
        "Por fim, a maneira como a paralelização é feita também importa. Não basta paralelismos todos as tarefas que podem ser paralelizadas, já que existe o **overhead** causado pelas tecnologias envolvidas, o que pode fazer com que a solução paralela perca eficiência. Também é necessário analisar detalhes como topologia dos processos, como demonstrado com os resultados para diferentes topologias."
      ],
      "metadata": {
        "id": "-IRR86uk8ml5"
      }
    }
  ]
}